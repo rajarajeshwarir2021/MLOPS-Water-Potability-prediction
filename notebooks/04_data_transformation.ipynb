{
 "cells": [
  {
   "cell_type": "markdown",
   "id": "e8668928-94e5-4461-943a-81b2f46d9ff4",
   "metadata": {},
   "source": [
    "#### Initial Setup"
   ]
  },
  {
   "cell_type": "code",
   "execution_count": 1,
   "id": "392d1ef2-3907-4d7b-9dd6-41d2cc59ce3a",
   "metadata": {},
   "outputs": [],
   "source": [
    "import os"
   ]
  },
  {
   "cell_type": "code",
   "execution_count": 2,
   "id": "7f04fcbf-84a6-41cf-9f3e-be242a2035d3",
   "metadata": {},
   "outputs": [
    {
     "data": {
      "text/plain": [
       "'E:\\\\RajaRajeshwari\\\\MyFolders\\\\Projects\\\\mlops_water_potability_prediction\\\\notebooks'"
      ]
     },
     "execution_count": 2,
     "metadata": {},
     "output_type": "execute_result"
    }
   ],
   "source": [
    "%pwd"
   ]
  },
  {
   "cell_type": "code",
   "execution_count": 3,
   "id": "bf222aee-bb78-4e4d-9158-34acfdad585d",
   "metadata": {},
   "outputs": [],
   "source": [
    "os.chdir(\"../\")"
   ]
  },
  {
   "cell_type": "code",
   "execution_count": 4,
   "id": "91a0e81d-bcdc-42d8-8e1d-93069a53ccb1",
   "metadata": {},
   "outputs": [
    {
     "data": {
      "text/plain": [
       "'E:\\\\RajaRajeshwari\\\\MyFolders\\\\Projects\\\\mlops_water_potability_prediction'"
      ]
     },
     "execution_count": 4,
     "metadata": {},
     "output_type": "execute_result"
    }
   ],
   "source": [
    "%pwd"
   ]
  },
  {
   "cell_type": "markdown",
   "id": "25f525a9-0009-4e7f-8b0f-879a22829f0b",
   "metadata": {},
   "source": [
    "#### Entity"
   ]
  },
  {
   "cell_type": "code",
   "execution_count": 5,
   "id": "394742cf-a106-4321-be33-eb08fe102c55",
   "metadata": {},
   "outputs": [],
   "source": [
    "from dataclasses import dataclass\n",
    "from pathlib import Path\n",
    "\n",
    "@dataclass(frozen=True)\n",
    "class DataTransformationConfig:\n",
    "    root_dir: Path\n",
    "    data_path: Path\n",
    "    status_file: Path"
   ]
  },
  {
   "cell_type": "markdown",
   "id": "e0d0ae75-bf27-4e74-829e-a620a14683fb",
   "metadata": {},
   "source": [
    "#### Configuration"
   ]
  },
  {
   "cell_type": "code",
   "execution_count": 6,
   "id": "cfbce0cc-e4e0-437e-80bb-18dfed91bec6",
   "metadata": {},
   "outputs": [],
   "source": [
    "from src.mlops_water_potability_prediction_project.constants import *\n",
    "from src.mlops_water_potability_prediction_project.utilities.helpers import read_yaml, create_directories\n",
    "\n",
    "class ConfigurationManager:\n",
    "    def __init__(self, config_filepath=CONFIG_FILE_PATH, params_filepath=PARAMS_FILE_PATH, schema_filepath=SCHEMA_FILE_PATH):\n",
    "        self.config = read_yaml(config_filepath)\n",
    "        self.params = read_yaml(params_filepath)\n",
    "        self.schema = read_yaml(schema_filepath)\n",
    "\n",
    "        create_directories(directories_path_list=[self.config.artifacts_root])\n",
    "\n",
    "    def get_data_transformation_config(self) -> DataTransformationConfig:\n",
    "        config = self.config.data_transformation\n",
    "\n",
    "        create_directories([config.root_dir])\n",
    "\n",
    "        data_transformation_config = DataTransformationConfig(\n",
    "            root_dir=config.root_dir,\n",
    "            data_path=config.data_path,\n",
    "            status_file=config.status_file\n",
    "        )\n",
    "\n",
    "        return data_transformation_config"
   ]
  },
  {
   "cell_type": "markdown",
   "id": "e4c84203-6b68-4242-bee5-def40c7f795e",
   "metadata": {},
   "source": [
    "#### Component"
   ]
  },
  {
   "cell_type": "raw",
   "id": "e897c063-dd0f-4fc0-93a9-a7dc0db9daf3",
   "metadata": {},
   "source": [
    "import os\n",
    "import pandas as pd\n",
    "from sklearn.model_selection import train_test_split\n",
    "from sklearn.preprocessing import StandardScaler\n",
    "from src.mlops_water_potability_prediction_project import logger\n",
    "\n",
    "\n",
    "class DataTransformation:\n",
    "    def __init__(self, config: DataTransformationConfig):\n",
    "        self.config = config\n",
    "        self.X_train = None\n",
    "        self.X_test = None\n",
    "        self.y_train = None\n",
    "        self.y_test = None\n",
    "\n",
    "    def split_dataset(self):\n",
    "        try:\n",
    "            dataframe = pd.read_csv(self.config.data_path)\n",
    "\n",
    "            X = dataframe.iloc[:, :-1]\n",
    "            y = dataframe.iloc[:, -1]\n",
    "\n",
    "            self.X_train, self.X_test, self.y_train, self.y_test = train_test_split(X, y)\n",
    "\n",
    "            logger.info(\"Split the dataset into train and test sets\")\n",
    "            logger.info(f\"Train set shape: {self.X_train.shape}\")\n",
    "            logger.info(f\"Test set shape: {self.X_test.shape}\")\n",
    "            print(self.X_train.shape)\n",
    "            print(self.X_test.shape)\n",
    "            print(self.y_train.shape)\n",
    "            print(self.y_test.shape)\n",
    "        except Exception as e:\n",
    "            raise e\n",
    "\n",
    "    def feature_scale_dataset(self):\n",
    "        try:\n",
    "            X_train_columns = list(self.X_train.columns)\n",
    "            X_test_columns = list(self.X_test.columns)\n",
    "            \n",
    "            sc = StandardScaler()\n",
    "            \n",
    "            self.X_train = sc.fit_transform(self.X_train)\n",
    "            self.X_test = sc.transform(self.X_test)\n",
    "\n",
    "            self.X_train = pd.DataFrame(self.X_train, columns=X_train_columns)\n",
    "            self.X_test = pd.DataFrame(self.X_test, columns=X_test_columns)\n",
    "                             \n",
    "            logger.info(\"Feature scaled the train and test sets\")\n",
    "        except Exception as e:\n",
    "            raise e\n",
    "\n",
    "    def save_data_sets(self):\n",
    "        try:\n",
    "            self.X_train.to_csv(os.path.join(self.config.root_dir, \"X_train_set.csv\"), index=False)\n",
    "            self.X_test.to_csv(os.path.join(self.config.root_dir, \"X_test_set.csv\"), index=False)\n",
    "            self.y_train.to_csv(os.path.join(self.config.root_dir, \"y_train_set.csv\"), index=False)\n",
    "            self.y_test.to_csv(os.path.join(self.config.root_dir, \"y_test_set.csv\"), index=False)\n",
    "                             \n",
    "            logger.info(\"Saved the data sets to csv\")\n",
    "        except Exception as e:\n",
    "            raise e\n"
   ]
  },
  {
   "cell_type": "code",
   "execution_count": 7,
   "id": "2e90ce43-66a6-495b-baaa-ddc63238fe72",
   "metadata": {},
   "outputs": [],
   "source": [
    "import os\n",
    "import pandas as pd\n",
    "from sklearn.model_selection import train_test_split\n",
    "from sklearn.preprocessing import StandardScaler\n",
    "from src.mlops_water_potability_prediction_project import logger\n",
    "\n",
    "\n",
    "class DataTransformation:\n",
    "    def __init__(self, config: DataTransformationConfig):\n",
    "        self.config = config\n",
    "        self.train = None\n",
    "        self.test = None\n",
    "\n",
    "    def split_dataset(self):\n",
    "        try:\n",
    "            dataframe = pd.read_csv(self.config.data_path)\n",
    "\n",
    "            self.train, self.test = train_test_split(dataframe)\n",
    "\n",
    "            logger.info(\"Split the dataset into train and test sets\")\n",
    "            logger.info(f\"Train set shape: {self.train.shape}\")\n",
    "            logger.info(f\"Test set shape: {self.test.shape}\")\n",
    "\n",
    "        except Exception as e:\n",
    "            raise e\n",
    "\n",
    "    def feature_scale_dataset(self):\n",
    "        try:           \n",
    "            sc = StandardScaler()\n",
    "\n",
    "            train_array = self.train.to_numpy()\n",
    "            test_array = self.test.to_numpy()\n",
    "            \n",
    "            train_array[:, :-1] = sc.fit_transform(train_array[:, :-1])\n",
    "            test_array[:, :-1] = sc.transform(test_array[:, :-1])\n",
    "\n",
    "            self.train = pd.DataFrame(train_array, columns=list(self.train.columns))\n",
    "            self.test = pd.DataFrame(test_array, columns=list(self.test.columns))\n",
    "            #print(self.train)\n",
    "            #print(self.test)\n",
    "                             \n",
    "            logger.info(\"Feature scaled the train and test sets\")\n",
    "        except Exception as e:\n",
    "            raise e\n",
    "\n",
    "    def save_transformation(self):\n",
    "        try:\n",
    "            self.train.to_csv(os.path.join(self.config.root_dir, \"train_set.csv\"), index=False)\n",
    "            self.test.to_csv(os.path.join(self.config.root_dir, \"test_set.csv\"), index=False)\n",
    "                             \n",
    "            logger.info(\"Saved the transformations as csv\")\n",
    "        except Exception as e:\n",
    "            raise e\n"
   ]
  },
  {
   "cell_type": "markdown",
   "id": "ff593ea5-d0f2-4d7d-a84f-4f5e58f43995",
   "metadata": {},
   "source": [
    "#### Pipeline"
   ]
  },
  {
   "cell_type": "code",
   "execution_count": 8,
   "id": "a71920d0-de89-4f09-b14a-0ff0914694c8",
   "metadata": {},
   "outputs": [
    {
     "name": "stdout",
     "output_type": "stream",
     "text": [
      "[2024-01-28 22:27:06,518]: INFO: helpers: YAML file: config\\config.yaml loaded successfully]\n",
      "[2024-01-28 22:27:06,522]: INFO: helpers: YAML file: params.yaml loaded successfully]\n",
      "[2024-01-28 22:27:06,525]: INFO: helpers: YAML file: schema.yaml loaded successfully]\n",
      "[2024-01-28 22:27:06,526]: INFO: helpers: Created directory at: artifacts]\n",
      "[2024-01-28 22:27:06,527]: INFO: helpers: Created directory at: artifacts/data_transformation]\n",
      "[2024-01-28 22:27:06,535]: INFO: 4115176146: Split the dataset into train and test sets]\n",
      "[2024-01-28 22:27:06,536]: INFO: 4115176146: Train set shape: (1508, 10)]\n",
      "[2024-01-28 22:27:06,537]: INFO: 4115176146: Test set shape: (503, 10)]\n",
      "[2024-01-28 22:27:06,539]: INFO: 4115176146: Feature scaled the train and test sets]\n",
      "[2024-01-28 22:27:06,562]: INFO: 4115176146: Saved the transformations as csv]\n"
     ]
    }
   ],
   "source": [
    "try:\n",
    "    config = ConfigurationManager()\n",
    "    data_transformation_config = config.get_data_transformation_config()\n",
    "    data_transformation = DataTransformation(config=data_transformation_config)\n",
    "    data_transformation.split_dataset()\n",
    "    data_transformation.feature_scale_dataset()\n",
    "    data_transformation.save_transformation()\n",
    "except Exception as e:\n",
    "    raise e"
   ]
  },
  {
   "cell_type": "code",
   "execution_count": null,
   "id": "cc886aac-ecf2-4191-a078-7dc50f656ff2",
   "metadata": {},
   "outputs": [],
   "source": []
  }
 ],
 "metadata": {
  "kernelspec": {
   "display_name": "Python 3 (ipykernel)",
   "language": "python",
   "name": "python3"
  },
  "language_info": {
   "codemirror_mode": {
    "name": "ipython",
    "version": 3
   },
   "file_extension": ".py",
   "mimetype": "text/x-python",
   "name": "python",
   "nbconvert_exporter": "python",
   "pygments_lexer": "ipython3",
   "version": "3.10.11"
  }
 },
 "nbformat": 4,
 "nbformat_minor": 5
}
