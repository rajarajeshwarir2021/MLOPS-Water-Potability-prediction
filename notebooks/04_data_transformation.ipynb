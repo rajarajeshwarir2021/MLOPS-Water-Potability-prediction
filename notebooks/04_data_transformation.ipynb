{
 "cells": [
  {
   "cell_type": "markdown",
   "id": "e8668928-94e5-4461-943a-81b2f46d9ff4",
   "metadata": {},
   "source": [
    "#### Initial Setup"
   ]
  },
  {
   "cell_type": "code",
   "execution_count": 1,
   "id": "392d1ef2-3907-4d7b-9dd6-41d2cc59ce3a",
   "metadata": {},
   "outputs": [],
   "source": [
    "import os"
   ]
  },
  {
   "cell_type": "code",
   "execution_count": 2,
   "id": "7f04fcbf-84a6-41cf-9f3e-be242a2035d3",
   "metadata": {},
   "outputs": [
    {
     "data": {
      "text/plain": [
       "'E:\\\\RajaRajeshwari\\\\MyFolders\\\\Projects\\\\mlops_water_potability_prediction\\\\notebooks'"
      ]
     },
     "execution_count": 2,
     "metadata": {},
     "output_type": "execute_result"
    }
   ],
   "source": [
    "%pwd"
   ]
  },
  {
   "cell_type": "code",
   "execution_count": 3,
   "id": "bf222aee-bb78-4e4d-9158-34acfdad585d",
   "metadata": {},
   "outputs": [],
   "source": [
    "os.chdir(\"../\")"
   ]
  },
  {
   "cell_type": "code",
   "execution_count": 4,
   "id": "91a0e81d-bcdc-42d8-8e1d-93069a53ccb1",
   "metadata": {},
   "outputs": [
    {
     "data": {
      "text/plain": [
       "'E:\\\\RajaRajeshwari\\\\MyFolders\\\\Projects\\\\mlops_water_potability_prediction'"
      ]
     },
     "execution_count": 4,
     "metadata": {},
     "output_type": "execute_result"
    }
   ],
   "source": [
    "%pwd"
   ]
  },
  {
   "cell_type": "code",
   "execution_count": 5,
   "id": "17f06176-b105-42c6-a674-84ef3f7192db",
   "metadata": {},
   "outputs": [],
   "source": [
    "import pandas as pd\n",
    "\n",
    "df = pd.read_csv(\"artifacts/data_ingestion/water_potability_dataset.csv\")"
   ]
  },
  {
   "cell_type": "raw",
   "id": "8ed98e98-6e84-4f3f-bfa6-fa8eee6db6d1",
   "metadata": {},
   "source": [
    "df.head()"
   ]
  },
  {
   "cell_type": "raw",
   "id": "39e5ab90-9d59-44d0-9b88-c53faab3d646",
   "metadata": {},
   "source": [
    "df.info()"
   ]
  },
  {
   "cell_type": "raw",
   "id": "247ed08e-7d63-4f68-bfa2-1c4e09b42e46",
   "metadata": {},
   "source": [
    "df.isnull().sum()"
   ]
  },
  {
   "cell_type": "raw",
   "id": "b03e36e0-b573-4df2-b21f-9506671105d5",
   "metadata": {},
   "source": [
    "df.shape"
   ]
  },
  {
   "cell_type": "markdown",
   "id": "25f525a9-0009-4e7f-8b0f-879a22829f0b",
   "metadata": {},
   "source": [
    "#### Entity"
   ]
  },
  {
   "cell_type": "code",
   "execution_count": 6,
   "id": "394742cf-a106-4321-be33-eb08fe102c55",
   "metadata": {},
   "outputs": [],
   "source": [
    "from dataclasses import dataclass\n",
    "from pathlib import Path\n",
    "\n",
    "@dataclass(frozen=True)\n",
    "class DataValidationConfig:\n",
    "    root_dir: Path\n",
    "    unzip_data_path: Path\n",
    "    status_file: str\n",
    "    data_schema: dict"
   ]
  },
  {
   "cell_type": "markdown",
   "id": "e0d0ae75-bf27-4e74-829e-a620a14683fb",
   "metadata": {},
   "source": [
    "#### Configuration"
   ]
  },
  {
   "cell_type": "code",
   "execution_count": 7,
   "id": "cfbce0cc-e4e0-437e-80bb-18dfed91bec6",
   "metadata": {},
   "outputs": [],
   "source": [
    "from src.mlops_water_potability_prediction_project.constants import *\n",
    "from src.mlops_water_potability_prediction_project.utilities.helpers import read_yaml, create_directories\n",
    "\n",
    "class ConfigurationManager:\n",
    "    def __init__(self, config_filepath=CONFIG_FILE_PATH, params_filepath=PARAMS_FILE_PATH, schema_filepath=SCHEMA_FILE_PATH):\n",
    "        self.config = read_yaml(config_filepath)\n",
    "        self.params = read_yaml(params_filepath)\n",
    "        self.schema = read_yaml(schema_filepath)\n",
    "\n",
    "        create_directories(directories_path_list=[self.config.artifacts_root])\n",
    "\n",
    "    def get_data_validation_config(self) -> DataValidationConfig:\n",
    "        config = self.config.data_validation\n",
    "        schema = self.schema.COLUMNS\n",
    "\n",
    "        create_directories([config.root_dir])\n",
    "\n",
    "        data_validation_config = DataValidationConfig(\n",
    "            root_dir=config.root_dir,\n",
    "            unzip_data_path=config.unzip_data_path,\n",
    "            status_file=config.status_file,\n",
    "            data_schema=schema\n",
    "        )\n",
    "\n",
    "        return data_validation_config"
   ]
  },
  {
   "cell_type": "markdown",
   "id": "e4c84203-6b68-4242-bee5-def40c7f795e",
   "metadata": {},
   "source": [
    "#### Component"
   ]
  },
  {
   "cell_type": "code",
   "execution_count": 8,
   "id": "140798ac-7e4c-45bf-8a4d-3515a9f2361d",
   "metadata": {},
   "outputs": [],
   "source": [
    "import os\n",
    "from src.mlops_water_potability_prediction_project import logger\n",
    "\n",
    "class DataValidation:\n",
    "    def __init__(self, config: DataValidationConfig):\n",
    "        self.config = config\n",
    "\n",
    "    def validate_all_columns(self) -> bool:\n",
    "        try:\n",
    "            validation_status = None\n",
    "            dataframe = pd.read_csv(self.config.unzip_data_path)\n",
    "            all_columns = list(dataframe.columns)\n",
    "            data_schema_keys = self.config.data_schema.keys()\n",
    "\n",
    "            for col in all_columns:\n",
    "                if col not in data_schema_keys:\n",
    "                    validation_status = False\n",
    "                elif dataframe[col].dtype != self.config.data_schema[col]:\n",
    "                    validation_status = False\n",
    "                else:\n",
    "                    continue\n",
    "                    \n",
    "            if validation_status == None:\n",
    "                validation_status = True\n",
    "\n",
    "            with open(self.config.status_file, 'w') as f:\n",
    "                f.write(f\"Validation status: {str(validation_status).upper()}\")\n",
    "\n",
    "            return validation_status\n",
    "        except Exception as e:\n",
    "            raise e"
   ]
  },
  {
   "cell_type": "markdown",
   "id": "ff593ea5-d0f2-4d7d-a84f-4f5e58f43995",
   "metadata": {},
   "source": [
    "#### Pipeline"
   ]
  },
  {
   "cell_type": "code",
   "execution_count": 9,
   "id": "a71920d0-de89-4f09-b14a-0ff0914694c8",
   "metadata": {},
   "outputs": [
    {
     "name": "stdout",
     "output_type": "stream",
     "text": [
      "[2024-01-28 20:37:36,757]: INFO: helpers: YAML file: config\\config.yaml loaded successfully]\n",
      "[2024-01-28 20:37:36,759]: INFO: helpers: YAML file: params.yaml loaded successfully]\n",
      "[2024-01-28 20:37:36,760]: INFO: helpers: YAML file: schema.yaml loaded successfully]\n",
      "[2024-01-28 20:37:36,761]: INFO: helpers: Created directory at: artifacts]\n",
      "[2024-01-28 20:37:36,762]: INFO: helpers: Created directory at: artifacts/data_validation]\n"
     ]
    }
   ],
   "source": [
    "try:\n",
    "    config = ConfigurationManager()\n",
    "    data_validation_config = config.get_data_validation_config()\n",
    "    data_validation = DataValidation(config=data_validation_config)\n",
    "    data_validation.validate_all_columns()\n",
    "except Exception as e:\n",
    "    raise e"
   ]
  },
  {
   "cell_type": "code",
   "execution_count": null,
   "id": "cc886aac-ecf2-4191-a078-7dc50f656ff2",
   "metadata": {},
   "outputs": [],
   "source": []
  }
 ],
 "metadata": {
  "kernelspec": {
   "display_name": "Python 3 (ipykernel)",
   "language": "python",
   "name": "python3"
  },
  "language_info": {
   "codemirror_mode": {
    "name": "ipython",
    "version": 3
   },
   "file_extension": ".py",
   "mimetype": "text/x-python",
   "name": "python",
   "nbconvert_exporter": "python",
   "pygments_lexer": "ipython3",
   "version": "3.10.11"
  }
 },
 "nbformat": 4,
 "nbformat_minor": 5
}
