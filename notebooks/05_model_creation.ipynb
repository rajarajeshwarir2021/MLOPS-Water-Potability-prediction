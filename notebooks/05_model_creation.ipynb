{
 "cells": [
  {
   "cell_type": "markdown",
   "id": "74d7ac2b-95ce-4738-aa42-c63be8c39948",
   "metadata": {},
   "source": [
    "#### Initial Setup"
   ]
  },
  {
   "cell_type": "code",
   "execution_count": 1,
   "id": "f7346b8d-d912-4493-a5af-f41f39e64e31",
   "metadata": {},
   "outputs": [],
   "source": [
    "import os"
   ]
  },
  {
   "cell_type": "code",
   "execution_count": 2,
   "id": "8d2bfd4e-15fc-4e7a-8cb0-c18d103c3a26",
   "metadata": {},
   "outputs": [
    {
     "data": {
      "text/plain": [
       "'E:\\\\RajaRajeshwari\\\\MyFolders\\\\Projects\\\\mlops_water_potability_prediction\\\\notebooks'"
      ]
     },
     "execution_count": 2,
     "metadata": {},
     "output_type": "execute_result"
    }
   ],
   "source": [
    "%pwd"
   ]
  },
  {
   "cell_type": "code",
   "execution_count": 3,
   "id": "34c13670-b00c-4a82-a7e3-ce2a0302c492",
   "metadata": {},
   "outputs": [],
   "source": [
    "os.chdir(\"../\")"
   ]
  },
  {
   "cell_type": "code",
   "execution_count": 4,
   "id": "56e100ae-e4f5-4200-8807-b9a8ea914111",
   "metadata": {},
   "outputs": [
    {
     "data": {
      "text/plain": [
       "'E:\\\\RajaRajeshwari\\\\MyFolders\\\\Projects\\\\mlops_water_potability_prediction'"
      ]
     },
     "execution_count": 4,
     "metadata": {},
     "output_type": "execute_result"
    }
   ],
   "source": [
    "%pwd"
   ]
  },
  {
   "cell_type": "markdown",
   "id": "967fc532-0cf7-4070-aa7f-89e5448c5dfa",
   "metadata": {},
   "source": [
    "#### Entity"
   ]
  },
  {
   "cell_type": "code",
   "execution_count": 5,
   "id": "d00a179d-e6ab-46c8-80ef-852cb322ec3b",
   "metadata": {},
   "outputs": [],
   "source": [
    "from dataclasses import dataclass\n",
    "from pathlib import Path\n",
    "\n",
    "@dataclass(frozen=True)\n",
    "class DataTransformationConfig:\n",
    "    root_dir: Path\n",
    "    data_path: Path\n",
    "    status_file: Path"
   ]
  },
  {
   "cell_type": "markdown",
   "id": "6ad64409-aa65-435d-82a9-a4e1a6477fc3",
   "metadata": {},
   "source": [
    "#### Configuration"
   ]
  },
  {
   "cell_type": "code",
   "execution_count": 6,
   "id": "d98d3729-5b97-476c-ac1e-15b4d92a2700",
   "metadata": {},
   "outputs": [],
   "source": [
    "from src.mlops_water_potability_prediction_project.constants import *\n",
    "from src.mlops_water_potability_prediction_project.utilities.helpers import read_yaml, create_directories\n",
    "\n",
    "class ConfigurationManager:\n",
    "    def __init__(self, config_filepath=CONFIG_FILE_PATH, params_filepath=PARAMS_FILE_PATH, schema_filepath=SCHEMA_FILE_PATH):\n",
    "        self.config = read_yaml(config_filepath)\n",
    "        self.params = read_yaml(params_filepath)\n",
    "        self.schema = read_yaml(schema_filepath)\n",
    "\n",
    "        create_directories(directories_path_list=[self.config.artifacts_root])\n",
    "\n",
    "    def get_data_transformation_config(self) -> DataTransformationConfig:\n",
    "        config = self.config.data_transformation\n",
    "\n",
    "        create_directories([config.root_dir])\n",
    "\n",
    "        data_transformation_config = DataTransformationConfig(\n",
    "            root_dir=config.root_dir,\n",
    "            data_path=config.data_path,\n",
    "            status_file=config.status_file\n",
    "        )\n",
    "\n",
    "        return data_transformation_config"
   ]
  },
  {
   "cell_type": "markdown",
   "id": "4ea9b0ca-93f3-441e-8600-4ecbd04dc997",
   "metadata": {},
   "source": [
    "#### Component"
   ]
  },
  {
   "cell_type": "raw",
   "id": "ce877dfe-710e-4f80-baa5-f5034748f57f",
   "metadata": {},
   "source": [
    "import os\n",
    "import pandas as pd\n",
    "from sklearn.model_selection import train_test_split\n",
    "from sklearn.preprocessing import StandardScaler\n",
    "from src.mlops_water_potability_prediction_project import logger\n",
    "\n",
    "\n",
    "class DataTransformation:\n",
    "    def __init__(self, config: DataTransformationConfig):\n",
    "        self.config = config\n",
    "        self.X_train = None\n",
    "        self.X_test = None\n",
    "        self.y_train = None\n",
    "        self.y_test = None\n",
    "\n",
    "    def split_dataset(self):\n",
    "        try:\n",
    "            dataframe = pd.read_csv(self.config.data_path)\n",
    "\n",
    "            X = dataframe.iloc[:, :-1]\n",
    "            y = dataframe.iloc[:, -1]\n",
    "\n",
    "            self.X_train, self.X_test, self.y_train, self.y_test = train_test_split(X, y)\n",
    "\n",
    "            logger.info(\"Split the dataset into train and test sets\")\n",
    "            logger.info(f\"Train set shape: {self.X_train.shape}\")\n",
    "            logger.info(f\"Test set shape: {self.X_test.shape}\")\n",
    "            print(self.X_train.shape)\n",
    "            print(self.X_test.shape)\n",
    "            print(self.y_train.shape)\n",
    "            print(self.y_test.shape)\n",
    "        except Exception as e:\n",
    "            raise e\n",
    "\n",
    "    def feature_scale_dataset(self):\n",
    "        try:\n",
    "            X_train_columns = list(self.X_train.columns)\n",
    "            X_test_columns = list(self.X_test.columns)\n",
    "            \n",
    "            sc = StandardScaler()\n",
    "            \n",
    "            self.X_train = sc.fit_transform(self.X_train)\n",
    "            self.X_test = sc.transform(self.X_test)\n",
    "\n",
    "            self.X_train = pd.DataFrame(self.X_train, columns=X_train_columns)\n",
    "            self.X_test = pd.DataFrame(self.X_test, columns=X_test_columns)\n",
    "                             \n",
    "            logger.info(\"Feature scaled the train and test sets\")\n",
    "        except Exception as e:\n",
    "            raise e\n",
    "\n",
    "    def save_data_sets(self):\n",
    "        try:\n",
    "            self.X_train.to_csv(os.path.join(self.config.root_dir, \"X_train_set.csv\"), index=False)\n",
    "            self.X_test.to_csv(os.path.join(self.config.root_dir, \"X_test_set.csv\"), index=False)\n",
    "            self.y_train.to_csv(os.path.join(self.config.root_dir, \"y_train_set.csv\"), index=False)\n",
    "            self.y_test.to_csv(os.path.join(self.config.root_dir, \"y_test_set.csv\"), index=False)\n",
    "                             \n",
    "            logger.info(\"Saved the data sets to csv\")\n",
    "        except Exception as e:\n",
    "            raise e\n"
   ]
  },
  {
   "cell_type": "code",
   "execution_count": 7,
   "id": "ebaf3f86-4ad6-454d-85cf-4cea4600c9da",
   "metadata": {},
   "outputs": [],
   "source": [
    "import os\n",
    "import pandas as pd\n",
    "from sklearn.model_selection import train_test_split\n",
    "from sklearn.preprocessing import StandardScaler\n",
    "from src.mlops_water_potability_prediction_project import logger\n",
    "\n",
    "\n",
    "class DataTransformation:\n",
    "    def __init__(self, config: DataTransformationConfig):\n",
    "        self.config = config\n",
    "        self.train = None\n",
    "        self.test = None\n",
    "\n",
    "    def split_dataset(self):\n",
    "        try:\n",
    "            dataframe = pd.read_csv(self.config.data_path)\n",
    "\n",
    "            self.train, self.test = train_test_split(dataframe)\n",
    "\n",
    "            logger.info(\"Split the dataset into train and test sets\")\n",
    "            logger.info(f\"Train set shape: {self.train.shape}\")\n",
    "            logger.info(f\"Test set shape: {self.test.shape}\")\n",
    "\n",
    "        except Exception as e:\n",
    "            raise e\n",
    "\n",
    "    def feature_scale_dataset(self):\n",
    "        try:           \n",
    "            sc = StandardScaler()\n",
    "\n",
    "            train_array = self.train.to_numpy()\n",
    "            test_array = self.test.to_numpy()\n",
    "            \n",
    "            train_array[:, :-1] = sc.fit_transform(train_array[:, :-1])\n",
    "            test_array[:, :-1] = sc.transform(test_array[:, :-1])\n",
    "\n",
    "            self.train = pd.DataFrame(train_array, columns=list(self.train.columns))\n",
    "            self.test = pd.DataFrame(test_array, columns=list(self.test.columns))\n",
    "            #print(self.train)\n",
    "            #print(self.test)\n",
    "                             \n",
    "            logger.info(\"Feature scaled the train and test sets\")\n",
    "        except Exception as e:\n",
    "            raise e\n",
    "\n",
    "    def save_transformation(self):\n",
    "        try:\n",
    "            self.train.to_csv(os.path.join(self.config.root_dir, \"train_set.csv\"), index=False)\n",
    "            self.test.to_csv(os.path.join(self.config.root_dir, \"test_set.csv\"), index=False)\n",
    "                             \n",
    "            logger.info(\"Saved the transformations as csv\")\n",
    "        except Exception as e:\n",
    "            raise e\n"
   ]
  },
  {
   "cell_type": "markdown",
   "id": "7d899687-d937-4342-94c8-b168a3df0f85",
   "metadata": {},
   "source": [
    "#### Pipeline"
   ]
  },
  {
   "cell_type": "code",
   "execution_count": 8,
   "id": "a9207dae-2616-449f-aaac-9544cab81324",
   "metadata": {},
   "outputs": [
    {
     "name": "stdout",
     "output_type": "stream",
     "text": [
      "[2024-01-28 22:27:06,518]: INFO: helpers: YAML file: config\\config.yaml loaded successfully]\n",
      "[2024-01-28 22:27:06,522]: INFO: helpers: YAML file: params.yaml loaded successfully]\n",
      "[2024-01-28 22:27:06,525]: INFO: helpers: YAML file: schema.yaml loaded successfully]\n",
      "[2024-01-28 22:27:06,526]: INFO: helpers: Created directory at: artifacts]\n",
      "[2024-01-28 22:27:06,527]: INFO: helpers: Created directory at: artifacts/data_transformation]\n",
      "[2024-01-28 22:27:06,535]: INFO: 4115176146: Split the dataset into train and test sets]\n",
      "[2024-01-28 22:27:06,536]: INFO: 4115176146: Train set shape: (1508, 10)]\n",
      "[2024-01-28 22:27:06,537]: INFO: 4115176146: Test set shape: (503, 10)]\n",
      "[2024-01-28 22:27:06,539]: INFO: 4115176146: Feature scaled the train and test sets]\n",
      "[2024-01-28 22:27:06,562]: INFO: 4115176146: Saved the transformations as csv]\n"
     ]
    }
   ],
   "source": [
    "try:\n",
    "    config = ConfigurationManager()\n",
    "    data_transformation_config = config.get_data_transformation_config()\n",
    "    data_transformation = DataTransformation(config=data_transformation_config)\n",
    "    data_transformation.split_dataset()\n",
    "    data_transformation.feature_scale_dataset()\n",
    "    data_transformation.save_transformation()\n",
    "except Exception as e:\n",
    "    raise e"
   ]
  },
  {
   "cell_type": "code",
   "execution_count": null,
   "id": "1b93f127-5284-4d55-a605-cb7712757e13",
   "metadata": {},
   "outputs": [],
   "source": []
  }
 ],
 "metadata": {
  "kernelspec": {
   "display_name": "Python 3 (ipykernel)",
   "language": "python",
   "name": "python3"
  },
  "language_info": {
   "codemirror_mode": {
    "name": "ipython",
    "version": 3
   },
   "file_extension": ".py",
   "mimetype": "text/x-python",
   "name": "python",
   "nbconvert_exporter": "python",
   "pygments_lexer": "ipython3",
   "version": "3.10.11"
  }
 },
 "nbformat": 4,
 "nbformat_minor": 5
}
