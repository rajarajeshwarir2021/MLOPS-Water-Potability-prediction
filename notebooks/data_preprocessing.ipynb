{
 "cells": [
  {
   "cell_type": "markdown",
   "id": "bb85437f-49d2-4e6a-86aa-c48f59f98260",
   "metadata": {},
   "source": [
    "### Data Preprocessing"
   ]
  },
  {
   "cell_type": "markdown",
   "id": "7c131a19-29f7-45d2-a033-e81c91193121",
   "metadata": {},
   "source": [
    "#### Load data"
   ]
  },
  {
   "cell_type": "code",
   "execution_count": 1,
   "id": "48881ca6-67b5-4638-8e2c-2c4150c767b4",
   "metadata": {},
   "outputs": [],
   "source": [
    "# Import the libraries\n",
    "import pandas as pd"
   ]
  },
  {
   "cell_type": "code",
   "execution_count": 2,
   "id": "e5e9a9de-c50e-44ad-9d41-c8d021d621ae",
   "metadata": {},
   "outputs": [],
   "source": [
    "# Get the dataframe\n",
    "df = pd.read_csv(\"E:\\\\RajaRajeshwari\\\\MyFolders\\\\Projects\\\\mlops_water_potability_prediction\\\\artifacts\\\\data_ingestion\\\\water_potability_dataset.csv\")"
   ]
  },
  {
   "cell_type": "markdown",
   "id": "e2bd500e-9355-4411-b052-56cde57a76be",
   "metadata": {},
   "source": [
    "#### Preprocess data based on Statistical Data Analysis"
   ]
  },
  {
   "cell_type": "code",
   "execution_count": null,
   "id": "dac30867-20c3-44a0-a429-883e3366416a",
   "metadata": {},
   "outputs": [],
   "source": [
    "# Check for missing values\n",
    "df.isna().sum()"
   ]
  },
  {
   "cell_type": "code",
   "execution_count": 3,
   "id": "4e4146bf-e7b8-4380-88d9-d72cc9ab7126",
   "metadata": {},
   "outputs": [],
   "source": [
    "# Remove rows with missing values\n",
    "df = df.dropna(how='any',axis=0) "
   ]
  },
  {
   "cell_type": "code",
   "execution_count": null,
   "id": "a655d589-fc42-43e0-b1bd-db36aefd44ed",
   "metadata": {},
   "outputs": [],
   "source": [
    "# Check for missing values\n",
    "df.isna().sum()"
   ]
  },
  {
   "cell_type": "code",
   "execution_count": null,
   "id": "5f60030b-9e1e-4bdd-9a5a-717413257b64",
   "metadata": {},
   "outputs": [],
   "source": [
    "# Save the clean data\n",
    "df.to"
   ]
  }
 ],
 "metadata": {
  "kernelspec": {
   "display_name": "Python 3 (ipykernel)",
   "language": "python",
   "name": "python3"
  },
  "language_info": {
   "codemirror_mode": {
    "name": "ipython",
    "version": 3
   },
   "file_extension": ".py",
   "mimetype": "text/x-python",
   "name": "python",
   "nbconvert_exporter": "python",
   "pygments_lexer": "ipython3",
   "version": "3.10.11"
  }
 },
 "nbformat": 4,
 "nbformat_minor": 5
}
