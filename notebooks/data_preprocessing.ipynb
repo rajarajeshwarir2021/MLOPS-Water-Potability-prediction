{
 "cells": [
  {
   "cell_type": "markdown",
   "id": "bb85437f-49d2-4e6a-86aa-c48f59f98260",
   "metadata": {},
   "source": [
    "### Data Preprocessing"
   ]
  },
  {
   "cell_type": "markdown",
   "id": "7c131a19-29f7-45d2-a033-e81c91193121",
   "metadata": {},
   "source": [
    "#### Load data"
   ]
  },
  {
   "cell_type": "code",
   "execution_count": 2,
   "id": "48881ca6-67b5-4638-8e2c-2c4150c767b4",
   "metadata": {},
   "outputs": [],
   "source": [
    "# Import the libraries\n",
    "import pandas as pd"
   ]
  },
  {
   "cell_type": "code",
   "execution_count": 2,
   "id": "e5e9a9de-c50e-44ad-9d41-c8d021d621ae",
   "metadata": {},
   "outputs": [],
   "source": [
    "# Get the dataframe\n",
    "df = pd.read_csv(\"E:\\\\RajaRajeshwari\\\\MyFolders\\\\Projects\\\\mlops_water_potability_prediction\\\\artifacts\\\\data_ingestion\\\\water_potability_dataset.csv\")"
   ]
  },
  {
   "cell_type": "markdown",
   "id": "e2bd500e-9355-4411-b052-56cde57a76be",
   "metadata": {},
   "source": [
    "#### Preprocess data based on Statistical Data Analysis"
   ]
  },
  {
   "cell_type": "code",
   "execution_count": 3,
   "id": "dac30867-20c3-44a0-a429-883e3366416a",
   "metadata": {},
   "outputs": [
    {
     "data": {
      "text/plain": [
       "ph                 491\n",
       "Hardness             0\n",
       "Solids               0\n",
       "Chloramines          0\n",
       "Sulfate            781\n",
       "Conductivity         0\n",
       "Organic_carbon       0\n",
       "Trihalomethanes    162\n",
       "Turbidity            0\n",
       "Potability           0\n",
       "dtype: int64"
      ]
     },
     "execution_count": 3,
     "metadata": {},
     "output_type": "execute_result"
    }
   ],
   "source": [
    "# Check for missing values\n",
    "df.isna().sum()"
   ]
  },
  {
   "cell_type": "code",
   "execution_count": 4,
   "id": "4e4146bf-e7b8-4380-88d9-d72cc9ab7126",
   "metadata": {},
   "outputs": [],
   "source": [
    "# Remove rows with missing values\n",
    "df = df.dropna(how='any',axis=0) "
   ]
  },
  {
   "cell_type": "code",
   "execution_count": 5,
   "id": "a655d589-fc42-43e0-b1bd-db36aefd44ed",
   "metadata": {},
   "outputs": [
    {
     "data": {
      "text/plain": [
       "ph                 0\n",
       "Hardness           0\n",
       "Solids             0\n",
       "Chloramines        0\n",
       "Sulfate            0\n",
       "Conductivity       0\n",
       "Organic_carbon     0\n",
       "Trihalomethanes    0\n",
       "Turbidity          0\n",
       "Potability         0\n",
       "dtype: int64"
      ]
     },
     "execution_count": 5,
     "metadata": {},
     "output_type": "execute_result"
    }
   ],
   "source": [
    "# Check for missing values\n",
    "df.isna().sum()"
   ]
  },
  {
   "cell_type": "code",
   "execution_count": 6,
   "id": "5f60030b-9e1e-4bdd-9a5a-717413257b64",
   "metadata": {},
   "outputs": [],
   "source": [
    "# Save the cleaned data\n",
    "df.to_csv(\"E:\\\\RajaRajeshwari\\\\MyFolders\\\\Projects\\\\mlops_water_potability_prediction\\\\artifacts\\\\data_ingestion\\\\water_potability_dataset.csv\", index=False)"
   ]
  },
  {
   "cell_type": "code",
   "execution_count": 7,
   "id": "59a87593-611b-42f9-9590-bcf44fa209f4",
   "metadata": {},
   "outputs": [],
   "source": [
    "# Get the dataframe\n",
    "df = pd.read_csv(\"E:\\\\RajaRajeshwari\\\\MyFolders\\\\Projects\\\\mlops_water_potability_prediction\\\\artifacts\\\\data_ingestion\\\\water_potability_dataset.csv\")"
   ]
  },
  {
   "cell_type": "code",
   "execution_count": 8,
   "id": "d1dcbc31-c4cd-4a1a-bd8a-dc5ff828d0d8",
   "metadata": {},
   "outputs": [
    {
     "data": {
      "text/plain": [
       "ph                 0\n",
       "Hardness           0\n",
       "Solids             0\n",
       "Chloramines        0\n",
       "Sulfate            0\n",
       "Conductivity       0\n",
       "Organic_carbon     0\n",
       "Trihalomethanes    0\n",
       "Turbidity          0\n",
       "Potability         0\n",
       "dtype: int64"
      ]
     },
     "execution_count": 8,
     "metadata": {},
     "output_type": "execute_result"
    }
   ],
   "source": [
    "# Check for missing values\n",
    "df.isna().sum()"
   ]
  },
  {
   "cell_type": "code",
   "execution_count": 3,
   "id": "a4d04103-f05d-4e77-9b4b-8ff22b63f58e",
   "metadata": {},
   "outputs": [],
   "source": [
    "# Get the dataframe\n",
    "df = pd.read_csv(\"E:\\\\RajaRajeshwari\\\\MyFolders\\\\Projects\\\\mlops_water_potability_prediction\\\\artifacts\\\\data_cleaning\\\\water_potability_dataset.csv\")\n",
    "\n",
    "# Save the min max schema of the dataframe\n",
    "overview = df.describe()\n",
    "overview.loc[[\"min\", \"max\"]].to_json(\"schema_data.json\")"
   ]
  },
  {
   "cell_type": "code",
   "execution_count": null,
   "id": "71db0cf3-d0ed-4461-a9b3-be0ff6439648",
   "metadata": {},
   "outputs": [],
   "source": []
  }
 ],
 "metadata": {
  "kernelspec": {
   "display_name": "Python 3 (ipykernel)",
   "language": "python",
   "name": "python3"
  },
  "language_info": {
   "codemirror_mode": {
    "name": "ipython",
    "version": 3
   },
   "file_extension": ".py",
   "mimetype": "text/x-python",
   "name": "python",
   "nbconvert_exporter": "python",
   "pygments_lexer": "ipython3",
   "version": "3.10.11"
  }
 },
 "nbformat": 4,
 "nbformat_minor": 5
}
