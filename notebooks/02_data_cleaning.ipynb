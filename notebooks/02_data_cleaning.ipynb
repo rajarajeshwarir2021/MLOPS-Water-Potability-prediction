{
 "cells": [
  {
   "cell_type": "markdown",
   "id": "379a0500-d23f-48de-837d-80746ac7c8b3",
   "metadata": {},
   "source": [
    "#### Initial Setup"
   ]
  },
  {
   "cell_type": "code",
   "execution_count": 1,
   "id": "7d62dced-6ef5-4dde-905f-8bd54d52e483",
   "metadata": {},
   "outputs": [],
   "source": [
    "import os"
   ]
  },
  {
   "cell_type": "code",
   "execution_count": 2,
   "id": "aea731e6-e9e3-455c-b7eb-8c7f6f67cb07",
   "metadata": {},
   "outputs": [
    {
     "data": {
      "text/plain": [
       "'E:\\\\RajaRajeshwari\\\\MyFolders\\\\Projects\\\\mlops_water_potability_prediction\\\\notebooks'"
      ]
     },
     "execution_count": 2,
     "metadata": {},
     "output_type": "execute_result"
    }
   ],
   "source": [
    "%pwd"
   ]
  },
  {
   "cell_type": "code",
   "execution_count": 3,
   "id": "036f983a-0236-4412-98ba-86238e8dbaa7",
   "metadata": {},
   "outputs": [],
   "source": [
    "os.chdir(\"../\")"
   ]
  },
  {
   "cell_type": "code",
   "execution_count": 4,
   "id": "1a7ab1c8-b34c-4fd8-ba8a-574dccfd4fb1",
   "metadata": {},
   "outputs": [
    {
     "data": {
      "text/plain": [
       "'E:\\\\RajaRajeshwari\\\\MyFolders\\\\Projects\\\\mlops_water_potability_prediction'"
      ]
     },
     "execution_count": 4,
     "metadata": {},
     "output_type": "execute_result"
    }
   ],
   "source": [
    "%pwd"
   ]
  },
  {
   "cell_type": "markdown",
   "id": "ad7d7fdc-292d-4117-9542-94cc67e86aab",
   "metadata": {},
   "source": [
    "#### Entity"
   ]
  },
  {
   "cell_type": "code",
   "execution_count": 5,
   "id": "54504edc-ac06-40eb-89bf-be36259283bc",
   "metadata": {},
   "outputs": [],
   "source": [
    "from dataclasses import dataclass\n",
    "from pathlib import Path\n",
    "\n",
    "@dataclass(frozen=True)\n",
    "class DataCleaningConfig:\n",
    "    root_dir: Path\n",
    "    unclean_data_path: Path\n",
    "    clean_data_path: Path"
   ]
  },
  {
   "cell_type": "markdown",
   "id": "8a192bf7-d3b4-4fb6-86c1-28aea88b4f77",
   "metadata": {},
   "source": [
    "#### Configuration"
   ]
  },
  {
   "cell_type": "code",
   "execution_count": 6,
   "id": "3967a16c-d80c-4229-aba2-821bdb581718",
   "metadata": {},
   "outputs": [],
   "source": [
    "from src.mlops_water_potability_prediction_project.constants import *\n",
    "from src.mlops_water_potability_prediction_project.utilities.helpers import read_yaml, create_directories\n",
    "\n",
    "class ConfigurationManager:\n",
    "    def __init__(self, config_filepath=CONFIG_FILE_PATH, params_filepath=PARAMS_FILE_PATH, schema_filepath=SCHEMA_FILE_PATH):\n",
    "        self.config = read_yaml(config_filepath)\n",
    "        self.params = read_yaml(params_filepath)\n",
    "        self.schema = read_yaml(schema_filepath)\n",
    "\n",
    "        create_directories(directories_path_list=[self.config.artifacts_root])\n",
    "\n",
    "    def get_data_cleaning_config(self) -> DataCleaningConfig:\n",
    "        config = self.config.data_cleaning\n",
    "\n",
    "        create_directories([config.root_dir])\n",
    "\n",
    "        data_cleaning_config = DataCleaningConfig(\n",
    "            root_dir=config.root_dir,\n",
    "            unclean_data_path=config.unclean_data_path,\n",
    "            clean_data_path=config.clean_data_path\n",
    "        )\n",
    "\n",
    "        return data_cleaning_config"
   ]
  },
  {
   "cell_type": "markdown",
   "id": "8313dd95-51d4-4bdb-a40e-a65540f7fb0d",
   "metadata": {},
   "source": [
    "#### Component"
   ]
  },
  {
   "cell_type": "code",
   "execution_count": 7,
   "id": "42643a02-2242-492e-ac6b-5cd7c93ac0ec",
   "metadata": {},
   "outputs": [],
   "source": [
    "import os\n",
    "import pandas as pd\n",
    "from src.mlops_water_potability_prediction_project import logger\n",
    "\n",
    "class DataCleaning:\n",
    "    def __init__(self, config: DataCleaningConfig):\n",
    "        self.config = config\n",
    "\n",
    "    def clean_data(self):\n",
    "        try:\n",
    "            dataframe = pd.read_csv(self.config.unclean_data_path)\n",
    "            dataframe = dataframe.dropna(how='any',axis=0) \n",
    "            dataframe.to_csv(self.config.clean_data_path, index=False)\n",
    "\n",
    "            logger.info(\"Cleaned the dataset\")\n",
    "\n",
    "        except Exception as e:\n",
    "            raise e\n"
   ]
  },
  {
   "cell_type": "markdown",
   "id": "ac36102e-8348-4a07-ba98-34e6a6fa9248",
   "metadata": {},
   "source": [
    "#### Pipeline"
   ]
  },
  {
   "cell_type": "code",
   "execution_count": 8,
   "id": "42304167-68ba-4383-9003-b84236284e1e",
   "metadata": {},
   "outputs": [
    {
     "name": "stdout",
     "output_type": "stream",
     "text": [
      "[2024-01-29 10:34:02,017]: INFO: helpers: YAML file: config\\config.yaml loaded successfully]\n",
      "[2024-01-29 10:34:02,033]: INFO: helpers: YAML file: params.yaml loaded successfully]\n",
      "[2024-01-29 10:34:02,038]: INFO: helpers: YAML file: schema.yaml loaded successfully]\n",
      "[2024-01-29 10:34:02,039]: INFO: helpers: Created directory at: artifacts]\n",
      "[2024-01-29 10:34:02,040]: INFO: helpers: Created directory at: artifacts/data_cleaning]\n",
      "[2024-01-29 10:34:02,077]: INFO: 1221452221: Dataset cleaned]\n"
     ]
    }
   ],
   "source": [
    "try:\n",
    "    config = ConfigurationManager()\n",
    "    data_cleaning_config = config.get_data_cleaning_config()\n",
    "    data_cleaning_config = DataCleaning(config=data_cleaning_config)\n",
    "    data_cleaning_config.clean_data()\n",
    "except Exception as e:\n",
    "    raise e"
   ]
  },
  {
   "cell_type": "code",
   "execution_count": null,
   "id": "25258a54-934e-4082-8a8f-3e81916977fc",
   "metadata": {},
   "outputs": [],
   "source": []
  }
 ],
 "metadata": {
  "kernelspec": {
   "display_name": "Python 3 (ipykernel)",
   "language": "python",
   "name": "python3"
  },
  "language_info": {
   "codemirror_mode": {
    "name": "ipython",
    "version": 3
   },
   "file_extension": ".py",
   "mimetype": "text/x-python",
   "name": "python",
   "nbconvert_exporter": "python",
   "pygments_lexer": "ipython3",
   "version": "3.10.11"
  }
 },
 "nbformat": 4,
 "nbformat_minor": 5
}
