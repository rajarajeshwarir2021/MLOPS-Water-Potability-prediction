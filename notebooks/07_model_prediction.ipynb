{
 "cells": [
  {
   "cell_type": "markdown",
   "id": "4a5ecf56-16e7-4223-8c9b-a5a03d6db130",
   "metadata": {},
   "source": [
    "#### Initial Setup"
   ]
  },
  {
   "cell_type": "code",
   "execution_count": 1,
   "id": "ada5c141-c71f-496e-8611-7f50919f87cf",
   "metadata": {},
   "outputs": [],
   "source": [
    "import os"
   ]
  },
  {
   "cell_type": "code",
   "execution_count": 2,
   "id": "6e796b9c-2dcd-4426-975b-a5687f3b8aca",
   "metadata": {},
   "outputs": [
    {
     "data": {
      "text/plain": [
       "'E:\\\\RajaRajeshwari\\\\MyFolders\\\\Projects\\\\mlops_water_potability_prediction\\\\notebooks'"
      ]
     },
     "execution_count": 2,
     "metadata": {},
     "output_type": "execute_result"
    }
   ],
   "source": [
    "%pwd"
   ]
  },
  {
   "cell_type": "code",
   "execution_count": 3,
   "id": "98d3da87-f375-49cc-9870-c4060fff4f88",
   "metadata": {},
   "outputs": [],
   "source": [
    "os.chdir(\"../\")"
   ]
  },
  {
   "cell_type": "code",
   "execution_count": 4,
   "id": "96e9fd6b-6a97-4710-94ec-d713f7a89fe3",
   "metadata": {},
   "outputs": [
    {
     "data": {
      "text/plain": [
       "'E:\\\\RajaRajeshwari\\\\MyFolders\\\\Projects\\\\mlops_water_potability_prediction'"
      ]
     },
     "execution_count": 4,
     "metadata": {},
     "output_type": "execute_result"
    }
   ],
   "source": [
    "%pwd"
   ]
  },
  {
   "cell_type": "markdown",
   "id": "8ec3b250-4237-4021-870c-236d0f1d3dc7",
   "metadata": {},
   "source": [
    "#### Entity"
   ]
  },
  {
   "cell_type": "code",
   "execution_count": 5,
   "id": "4435f121-46a0-4db9-b2b9-9533d5982474",
   "metadata": {},
   "outputs": [],
   "source": [
    "from dataclasses import dataclass\n",
    "from pathlib import Path\n",
    "\n",
    "@dataclass(frozen=True)\n",
    "class ModelPredictionConfig:\n",
    "    model_path: Path"
   ]
  },
  {
   "cell_type": "markdown",
   "id": "5fbde8ac-523c-4914-a153-387afd5c090f",
   "metadata": {},
   "source": [
    "#### Configuration"
   ]
  },
  {
   "cell_type": "code",
   "execution_count": 6,
   "id": "21ad5c28-64c3-4988-9d11-c5a9fb106060",
   "metadata": {},
   "outputs": [],
   "source": [
    "from src.mlops_water_potability_prediction_project.constants import *\n",
    "from src.mlops_water_potability_prediction_project.utilities.helpers import read_yaml\n",
    "\n",
    "class ConfigurationManager:\n",
    "    def __init__(self, config_filepath=CONFIG_FILE_PATH, params_filepath=PARAMS_FILE_PATH, schema_filepath=SCHEMA_FILE_PATH):\n",
    "        self.config = read_yaml(config_filepath)\n",
    "        self.params = read_yaml(params_filepath)\n",
    "        self.schema = read_yaml(schema_filepath)\n",
    "\n",
    "    def get_model_prediction_config(self) -> ModelPredictionConfig:\n",
    "        config = self.config.model_prediction\n",
    "\n",
    "        model_prediction_config = ModelPredictionConfig(\n",
    "            model_path=config.model_path,\n",
    "        )\n",
    "\n",
    "        return model_prediction_config"
   ]
  },
  {
   "cell_type": "markdown",
   "id": "ae73c3a8-e222-4470-909d-ec41fe4a2b4f",
   "metadata": {},
   "source": [
    "#### Component"
   ]
  },
  {
   "cell_type": "code",
   "execution_count": 7,
   "id": "46cc660e-205c-4bda-bcfa-0782f46e6ca7",
   "metadata": {},
   "outputs": [],
   "source": [
    "import joblib\n",
    "\n",
    "from src.mlops_water_potability_prediction_project import logger\n",
    "\n",
    "\n",
    "class ModelPrediction:\n",
    "    def __init__(self, config: ModelPredictionConfig):\n",
    "        self.config = config\n",
    "\n",
    "    def predict(self, data):\n",
    "        try:\n",
    "            model = joblib.load(self.config.model_path)\n",
    "            prediction = model.predict(data)\n",
    "\n",
    "            logger.info(\"Predict data using the model\")\n",
    "            return prediction\n",
    "        except Exception as e:\n",
    "            raise e      "
   ]
  },
  {
   "cell_type": "markdown",
   "id": "33a4bff8-d2a9-4f8a-a070-f653b101f459",
   "metadata": {},
   "source": [
    "#### Pipeline"
   ]
  },
  {
   "cell_type": "code",
   "execution_count": 8,
   "id": "120fc6c8-0de4-4229-8f9d-03397170caea",
   "metadata": {},
   "outputs": [
    {
     "name": "stdout",
     "output_type": "stream",
     "text": [
      "[2024-01-29 17:16:59,411]: INFO: helpers: YAML file: config\\config.yaml loaded successfully]\n",
      "[2024-01-29 17:16:59,412]: INFO: helpers: YAML file: params.yaml loaded successfully]\n",
      "[2024-01-29 17:16:59,414]: INFO: helpers: YAML file: schema.yaml loaded successfully]\n",
      "[2024-01-29 17:16:59,834]: INFO: 4210719946: Predict data using the model]\n",
      "[0.]\n"
     ]
    }
   ],
   "source": [
    "data = [[-0.3178266699547379,-0.091211066334705,-0.8620216614125349,-0.6109023585675367,-0.45494327621466607,-1.0186105292775014,0.9252077219311549,-0.8142465077043499,-1.5108829669361032]]\n",
    "try:\n",
    "    config = ConfigurationManager()\n",
    "    model_prediction_config = config.get_model_prediction_config()\n",
    "    model_prediction_config = ModelPrediction(config=model_prediction_config)\n",
    "    prediction = model_prediction_config.predict(data)\n",
    "    print(prediction)\n",
    "except Exception as e:\n",
    "    raise e"
   ]
  },
  {
   "cell_type": "code",
   "execution_count": null,
   "id": "3310c752-fbc4-418d-a7c1-83a428e8d3c6",
   "metadata": {},
   "outputs": [],
   "source": []
  }
 ],
 "metadata": {
  "kernelspec": {
   "display_name": "Python 3 (ipykernel)",
   "language": "python",
   "name": "python3"
  },
  "language_info": {
   "codemirror_mode": {
    "name": "ipython",
    "version": 3
   },
   "file_extension": ".py",
   "mimetype": "text/x-python",
   "name": "python",
   "nbconvert_exporter": "python",
   "pygments_lexer": "ipython3",
   "version": "3.10.11"
  }
 },
 "nbformat": 4,
 "nbformat_minor": 5
}
