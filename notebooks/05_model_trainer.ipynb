{
 "cells": [
  {
   "cell_type": "markdown",
   "id": "74d7ac2b-95ce-4738-aa42-c63be8c39948",
   "metadata": {},
   "source": [
    "#### Initial Setup"
   ]
  },
  {
   "cell_type": "code",
   "execution_count": 1,
   "id": "f7346b8d-d912-4493-a5af-f41f39e64e31",
   "metadata": {},
   "outputs": [],
   "source": [
    "import os"
   ]
  },
  {
   "cell_type": "code",
   "execution_count": 2,
   "id": "8d2bfd4e-15fc-4e7a-8cb0-c18d103c3a26",
   "metadata": {},
   "outputs": [
    {
     "data": {
      "text/plain": [
       "'E:\\\\RajaRajeshwari\\\\MyFolders\\\\Projects\\\\mlops_water_potability_prediction\\\\notebooks'"
      ]
     },
     "execution_count": 2,
     "metadata": {},
     "output_type": "execute_result"
    }
   ],
   "source": [
    "%pwd"
   ]
  },
  {
   "cell_type": "code",
   "execution_count": 3,
   "id": "34c13670-b00c-4a82-a7e3-ce2a0302c492",
   "metadata": {},
   "outputs": [],
   "source": [
    "os.chdir(\"../\")"
   ]
  },
  {
   "cell_type": "code",
   "execution_count": 4,
   "id": "56e100ae-e4f5-4200-8807-b9a8ea914111",
   "metadata": {},
   "outputs": [
    {
     "data": {
      "text/plain": [
       "'E:\\\\RajaRajeshwari\\\\MyFolders\\\\Projects\\\\mlops_water_potability_prediction'"
      ]
     },
     "execution_count": 4,
     "metadata": {},
     "output_type": "execute_result"
    }
   ],
   "source": [
    "%pwd"
   ]
  },
  {
   "cell_type": "markdown",
   "id": "967fc532-0cf7-4070-aa7f-89e5448c5dfa",
   "metadata": {},
   "source": [
    "#### Entity"
   ]
  },
  {
   "cell_type": "code",
   "execution_count": 5,
   "id": "d00a179d-e6ab-46c8-80ef-852cb322ec3b",
   "metadata": {},
   "outputs": [],
   "source": [
    "from dataclasses import dataclass\n",
    "from pathlib import Path\n",
    "\n",
    "@dataclass(frozen=True)\n",
    "class ModelTrainerConfig:\n",
    "    root_dir: Path\n",
    "    train_data_path: Path\n",
    "    test_data_path: Path\n",
    "    model_file_name: str\n",
    "    iterations: int\n",
    "    learning_rate: float\n",
    "    random_seed: int\n",
    "    custom_loss: list\n",
    "    target_column: str"
   ]
  },
  {
   "cell_type": "markdown",
   "id": "6ad64409-aa65-435d-82a9-a4e1a6477fc3",
   "metadata": {},
   "source": [
    "#### Configuration"
   ]
  },
  {
   "cell_type": "code",
   "execution_count": 6,
   "id": "d98d3729-5b97-476c-ac1e-15b4d92a2700",
   "metadata": {},
   "outputs": [],
   "source": [
    "from src.mlops_water_potability_prediction_project.constants import *\n",
    "from src.mlops_water_potability_prediction_project.utilities.helpers import read_yaml, create_directories\n",
    "\n",
    "class ConfigurationManager:\n",
    "    def __init__(self, config_filepath=CONFIG_FILE_PATH, params_filepath=PARAMS_FILE_PATH, schema_filepath=SCHEMA_FILE_PATH):\n",
    "        self.config = read_yaml(config_filepath)\n",
    "        self.params = read_yaml(params_filepath)\n",
    "        self.schema = read_yaml(schema_filepath)\n",
    "\n",
    "        create_directories(directories_path_list=[self.config.artifacts_root])\n",
    "\n",
    "    def get_model_trainer_config(self) -> ModelTrainerConfig:\n",
    "        config = self.config.model_trainer\n",
    "        params = self.params.CatBoost\n",
    "        schema = self.schema.TARGET_COLUMN\n",
    "\n",
    "        create_directories([config.root_dir])\n",
    "\n",
    "        print(config)\n",
    "\n",
    "        model_trainer_config = ModelTrainerConfig(\n",
    "            root_dir=config.root_dir,\n",
    "            train_data_path=config.train_data_path,\n",
    "            test_data_path=config.test_data_path,\n",
    "            model_file_name=config.model_file_name,\n",
    "            iterations=params.iterations,\n",
    "            learning_rate=params.learning_rate,\n",
    "            random_seed=params.random_seed,\n",
    "            custom_loss=['Accuracy', 'AUC'],\n",
    "            target_column=schema.name\n",
    "        )\n",
    "\n",
    "        return model_trainer_config"
   ]
  },
  {
   "cell_type": "markdown",
   "id": "4ea9b0ca-93f3-441e-8600-4ecbd04dc997",
   "metadata": {},
   "source": [
    "#### Component"
   ]
  },
  {
   "cell_type": "code",
   "execution_count": 9,
   "id": "ebaf3f86-4ad6-454d-85cf-4cea4600c9da",
   "metadata": {},
   "outputs": [],
   "source": [
    "import joblib\n",
    "import os\n",
    "import pandas as pd\n",
    "from catboost import CatBoostClassifier\n",
    "from src.mlops_water_potability_prediction_project import logger\n",
    "\n",
    "\n",
    "class ModelTrainer:\n",
    "    def __init__(self, config: ModelTrainerConfig):\n",
    "        self.config = config\n",
    "\n",
    "    def train(self):\n",
    "        try:\n",
    "            train_df = pd.read_csv(self.config.train_data_path)\n",
    "            test_df = pd.read_csv(self.config.test_data_path)\n",
    "\n",
    "            X_train = train_df.drop([self.config.target_column], axis=1)\n",
    "            X_test = test_df.drop([self.config.target_column], axis=1)\n",
    "            y_train = train_df[[self.config.target_column]]\n",
    "            y_test = test_df[[self.config.target_column]]\n",
    "\n",
    "            classifier = CatBoostClassifier(iterations=self.config.iterations, random_seed=self.config.random_seed, learning_rate=self.config.learning_rate, custom_loss=self.config.custom_loss)\n",
    "            classifier.fit(X_train, y_train, verbose=True, plot=True)\n",
    "\n",
    "            joblib.dump(classifier, os.path.join(self.config.root_dir, self.config.model_file_name))\n",
    "            \n",
    "            logger.info(\"Trained and saved the model\")\n",
    "        except Exception as e:\n",
    "            raise e"
   ]
  },
  {
   "cell_type": "markdown",
   "id": "7d899687-d937-4342-94c8-b168a3df0f85",
   "metadata": {},
   "source": [
    "#### Pipeline"
   ]
  },
  {
   "cell_type": "code",
   "execution_count": 10,
   "id": "a9207dae-2616-449f-aaac-9544cab81324",
   "metadata": {},
   "outputs": [
    {
     "name": "stdout",
     "output_type": "stream",
     "text": [
      "[2024-01-29 12:12:51,039]: INFO: helpers: YAML file: config\\config.yaml loaded successfully]\n",
      "[2024-01-29 12:12:51,041]: INFO: helpers: YAML file: params.yaml loaded successfully]\n",
      "[2024-01-29 12:12:51,042]: INFO: helpers: YAML file: schema.yaml loaded successfully]\n",
      "[2024-01-29 12:12:51,043]: INFO: helpers: Created directory at: artifacts]\n",
      "[2024-01-29 12:12:51,044]: INFO: helpers: Created directory at: artifacts/model_trainer]\n",
      "{'root_dir': 'artifacts/model_trainer', 'train_data_path': 'artifacts/data_transformation/train_set.csv', 'test_data_path': 'artifacts/data_transformation/test_set.csv', 'model_file_name': 'model.joblib'}\n"
     ]
    },
    {
     "data": {
      "application/vnd.jupyter.widget-view+json": {
       "model_id": "5f42c82445694ac7b15445243205b7c7",
       "version_major": 2,
       "version_minor": 0
      },
      "text/plain": [
       "MetricVisualizer(layout=Layout(align_self='stretch', height='500px'))"
      ]
     },
     "metadata": {},
     "output_type": "display_data"
    },
    {
     "name": "stdout",
     "output_type": "stream",
     "text": [
      "0:\tlearn: 0.6656813\ttotal: 1.76ms\tremaining: 86.4ms\n",
      "1:\tlearn: 0.6304005\ttotal: 3.37ms\tremaining: 80.9ms\n",
      "2:\tlearn: 0.6147720\ttotal: 5.08ms\tremaining: 79.6ms\n",
      "3:\tlearn: 0.5986872\ttotal: 6.64ms\tremaining: 76.4ms\n",
      "4:\tlearn: 0.5825654\ttotal: 8.41ms\tremaining: 75.7ms\n",
      "5:\tlearn: 0.5677987\ttotal: 9.95ms\tremaining: 72.9ms\n",
      "6:\tlearn: 0.5603531\ttotal: 11.5ms\tremaining: 70.4ms\n",
      "7:\tlearn: 0.5561712\ttotal: 12.8ms\tremaining: 67.3ms\n",
      "8:\tlearn: 0.5479152\ttotal: 14.2ms\tremaining: 64.9ms\n",
      "9:\tlearn: 0.5427341\ttotal: 15.8ms\tremaining: 63.1ms\n",
      "10:\tlearn: 0.5364166\ttotal: 17.3ms\tremaining: 61.4ms\n",
      "11:\tlearn: 0.5278448\ttotal: 18.9ms\tremaining: 59.7ms\n",
      "12:\tlearn: 0.5240916\ttotal: 20.3ms\tremaining: 57.7ms\n",
      "13:\tlearn: 0.5201039\ttotal: 21.7ms\tremaining: 55.9ms\n",
      "14:\tlearn: 0.5137773\ttotal: 23.4ms\tremaining: 54.5ms\n",
      "15:\tlearn: 0.5075113\ttotal: 24.8ms\tremaining: 52.6ms\n",
      "16:\tlearn: 0.5006836\ttotal: 26.3ms\tremaining: 51ms\n",
      "17:\tlearn: 0.4921582\ttotal: 27.7ms\tremaining: 49.2ms\n",
      "18:\tlearn: 0.4870537\ttotal: 29.2ms\tremaining: 47.6ms\n",
      "19:\tlearn: 0.4808257\ttotal: 30.5ms\tremaining: 45.8ms\n",
      "20:\tlearn: 0.4776612\ttotal: 31.9ms\tremaining: 44.1ms\n",
      "21:\tlearn: 0.4746357\ttotal: 33.5ms\tremaining: 42.7ms\n",
      "22:\tlearn: 0.4705972\ttotal: 35ms\tremaining: 41.1ms\n",
      "23:\tlearn: 0.4622035\ttotal: 36.5ms\tremaining: 39.6ms\n",
      "24:\tlearn: 0.4579852\ttotal: 38.1ms\tremaining: 38.1ms\n",
      "25:\tlearn: 0.4489197\ttotal: 39.6ms\tremaining: 36.5ms\n",
      "26:\tlearn: 0.4448819\ttotal: 41.1ms\tremaining: 35ms\n",
      "27:\tlearn: 0.4423458\ttotal: 42.4ms\tremaining: 33.3ms\n",
      "28:\tlearn: 0.4365301\ttotal: 43.8ms\tremaining: 31.8ms\n",
      "29:\tlearn: 0.4337683\ttotal: 45.5ms\tremaining: 30.3ms\n",
      "30:\tlearn: 0.4297657\ttotal: 47ms\tremaining: 28.8ms\n",
      "31:\tlearn: 0.4242095\ttotal: 48.6ms\tremaining: 27.4ms\n",
      "32:\tlearn: 0.4192702\ttotal: 50.1ms\tremaining: 25.8ms\n",
      "33:\tlearn: 0.4156742\ttotal: 51.5ms\tremaining: 24.2ms\n",
      "34:\tlearn: 0.4117920\ttotal: 53ms\tremaining: 22.7ms\n",
      "35:\tlearn: 0.4080758\ttotal: 54.5ms\tremaining: 21.2ms\n",
      "36:\tlearn: 0.4038413\ttotal: 56.1ms\tremaining: 19.7ms\n",
      "37:\tlearn: 0.3984620\ttotal: 57.6ms\tremaining: 18.2ms\n",
      "38:\tlearn: 0.3906414\ttotal: 59.2ms\tremaining: 16.7ms\n",
      "39:\tlearn: 0.3868532\ttotal: 60.8ms\tremaining: 15.2ms\n",
      "40:\tlearn: 0.3821224\ttotal: 62.3ms\tremaining: 13.7ms\n",
      "41:\tlearn: 0.3778004\ttotal: 63.8ms\tremaining: 12.1ms\n",
      "42:\tlearn: 0.3763728\ttotal: 65.2ms\tremaining: 10.6ms\n",
      "43:\tlearn: 0.3722889\ttotal: 66.6ms\tremaining: 9.09ms\n",
      "44:\tlearn: 0.3680181\ttotal: 68.1ms\tremaining: 7.57ms\n",
      "45:\tlearn: 0.3664487\ttotal: 69.7ms\tremaining: 6.06ms\n",
      "46:\tlearn: 0.3659628\ttotal: 71.1ms\tremaining: 4.54ms\n",
      "47:\tlearn: 0.3613270\ttotal: 72.8ms\tremaining: 3.03ms\n",
      "48:\tlearn: 0.3549068\ttotal: 74.4ms\tremaining: 1.52ms\n",
      "49:\tlearn: 0.3480367\ttotal: 76ms\tremaining: 0us\n",
      "[2024-01-29 12:12:51,211]: INFO: 570716151: Train and save the model]\n"
     ]
    }
   ],
   "source": [
    "try:\n",
    "    config = ConfigurationManager()\n",
    "    model_trainer_config = config.get_model_trainer_config()\n",
    "    model_trainer_config = ModelTrainer(config=model_trainer_config)\n",
    "    model_trainer_config.train()\n",
    "except Exception as e:\n",
    "    raise e"
   ]
  },
  {
   "cell_type": "code",
   "execution_count": null,
   "id": "1b93f127-5284-4d55-a605-cb7712757e13",
   "metadata": {},
   "outputs": [],
   "source": []
  }
 ],
 "metadata": {
  "kernelspec": {
   "display_name": "Python 3 (ipykernel)",
   "language": "python",
   "name": "python3"
  },
  "language_info": {
   "codemirror_mode": {
    "name": "ipython",
    "version": 3
   },
   "file_extension": ".py",
   "mimetype": "text/x-python",
   "name": "python",
   "nbconvert_exporter": "python",
   "pygments_lexer": "ipython3",
   "version": "3.10.11"
  }
 },
 "nbformat": 4,
 "nbformat_minor": 5
}
