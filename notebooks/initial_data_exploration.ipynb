{
 "cells": [
  {
   "cell_type": "markdown",
   "id": "3b87435e-42d5-418b-b191-0b991403446a",
   "metadata": {},
   "source": [
    "### Statistical Data Analysis"
   ]
  },
  {
   "cell_type": "markdown",
   "id": "cf98d05f-0893-4fb3-9772-6f1a052d94f8",
   "metadata": {},
   "source": [
    "#### Load data"
   ]
  },
  {
   "cell_type": "code",
   "execution_count": null,
   "id": "8119de9b-9d8e-48fa-bbf9-2f75a02b2527",
   "metadata": {},
   "outputs": [],
   "source": [
    "# Import the libraries\n",
    "import pandas as pd"
   ]
  },
  {
   "cell_type": "code",
   "execution_count": null,
   "id": "f5f4aee0-2f89-42e4-9c52-e35826f02ba4",
   "metadata": {},
   "outputs": [],
   "source": [
    "# Get the dataframe\n",
    "df = pd.read_csv(\"E:\\\\RajaRajeshwari\\\\MyFolders\\\\Projects\\\\mlops_salary_prediction\\\\mlops_salary_prediction_main\\\\data\\\\raw\\\\salary_datas"
   ]
  },
  {
   "cell_type": "code",
   "execution_count": null,
   "id": "12dfa3de-06c4-4dd4-b3ea-be91f3eb3401",
   "metadata": {},
   "outputs": [],
   "source": [
    "# Get the shape of the dataframe\n",
    "df.shape"
   ]
  },
  {
   "cell_type": "code",
   "execution_count": null,
   "id": "fe20f3a3-76d1-45fb-bb63-b7f85107cb78",
   "metadata": {},
   "outputs": [],
   "source": [
    "# Display the headers\n",
    "df.columns"
   ]
  },
  {
   "cell_type": "code",
   "execution_count": null,
   "id": "e71b2327-ed47-4f81-8080-b8ab36381e86",
   "metadata": {},
   "outputs": [],
   "source": [
    "# Check for missing values\n",
    "df.isna().sum()"
   ]
  },
  {
   "cell_type": "code",
   "execution_count": null,
   "id": "3a45eac8-acb2-496a-a7ac-8d8fdfc4a92f",
   "metadata": {},
   "outputs": [],
   "source": [
    "# Find and print the rows with missing values\n",
    "nan_values = df[df.isna().any(axis=1)]\n",
    "print(nan_values)"
   ]
  },
  {
   "cell_type": "code",
   "execution_count": null,
   "id": "49d1db12-1b7f-414e-ae2d-e096dc29a28e",
   "metadata": {},
   "outputs": [],
   "source": [
    "# Check for duplicate rows\n",
    "df.duplicated().sum()"
   ]
  },
  {
   "cell_type": "code",
   "execution_count": null,
   "id": "a2d6d836-6601-4fc3-ab00-e1faaab1ce0f",
   "metadata": {},
   "outputs": [],
   "source": [
    "# Display the top 5 rows of the dataframe\n",
    "df.head()"
   ]
  },
  {
   "cell_type": "code",
   "execution_count": null,
   "id": "1bb94159-9c18-47bf-8212-53d9e522cb7c",
   "metadata": {},
   "outputs": [],
   "source": [
    "# Describe the number of non-null values and the data type\n",
    "df.info()"
   ]
  },
  {
   "cell_type": "code",
   "execution_count": null,
   "id": "fce1ac4f-ec01-4700-962f-62c4f6672d81",
   "metadata": {},
   "outputs": [],
   "source": [
    "# Describe numerical data\n",
    "df.describe().T"
   ]
  },
  {
   "cell_type": "code",
   "execution_count": null,
   "id": "62a05788-9f66-46c6-8111-f31209c26a74",
   "metadata": {},
   "outputs": [],
   "source": []
  },
  {
   "cell_type": "code",
   "execution_count": null,
   "id": "5b209108-ef90-4b61-9904-a5702dcb0703",
   "metadata": {},
   "outputs": [],
   "source": []
  }
 ],
 "metadata": {
  "kernelspec": {
   "display_name": "Python 3 (ipykernel)",
   "language": "python",
   "name": "python3"
  },
  "language_info": {
   "codemirror_mode": {
    "name": "ipython",
    "version": 3
   },
   "file_extension": ".py",
   "mimetype": "text/x-python",
   "name": "python",
   "nbconvert_exporter": "python",
   "pygments_lexer": "ipython3",
   "version": "3.10.11"
  }
 },
 "nbformat": 4,
 "nbformat_minor": 5
}
