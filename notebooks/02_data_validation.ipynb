{
 "cells": [
  {
   "cell_type": "markdown",
   "id": "38b46dc2-b2c8-4256-acbd-a9c48fc673e9",
   "metadata": {},
   "source": [
    "#### Initial Setup"
   ]
  },
  {
   "cell_type": "code",
   "execution_count": 1,
   "id": "9c8c41e9-5eed-4601-a314-96aba216501f",
   "metadata": {},
   "outputs": [],
   "source": [
    "import os"
   ]
  },
  {
   "cell_type": "code",
   "execution_count": 2,
   "id": "934f9178-3682-4347-bc71-43efbd1a698a",
   "metadata": {},
   "outputs": [
    {
     "data": {
      "text/plain": [
       "'E:\\\\RajaRajeshwari\\\\MyFolders\\\\Projects\\\\mlops_water_potability_prediction\\\\notebooks'"
      ]
     },
     "execution_count": 2,
     "metadata": {},
     "output_type": "execute_result"
    }
   ],
   "source": [
    "%pwd"
   ]
  },
  {
   "cell_type": "code",
   "execution_count": 3,
   "id": "383fac29-fb9b-46a4-a267-4ae6c5a57073",
   "metadata": {},
   "outputs": [],
   "source": [
    "os.chdir(\"../\")"
   ]
  },
  {
   "cell_type": "code",
   "execution_count": 4,
   "id": "52833dc7-d066-45dd-87e3-5a7649130031",
   "metadata": {},
   "outputs": [
    {
     "data": {
      "text/plain": [
       "'E:\\\\RajaRajeshwari\\\\MyFolders\\\\Projects\\\\mlops_water_potability_prediction'"
      ]
     },
     "execution_count": 4,
     "metadata": {},
     "output_type": "execute_result"
    }
   ],
   "source": [
    "%pwd"
   ]
  },
  {
   "cell_type": "code",
   "execution_count": 5,
   "id": "cb60b26d-e6ee-49cc-a3c0-227b247babac",
   "metadata": {},
   "outputs": [],
   "source": [
    "import pandas as pd\n",
    "\n",
    "df = pd.read_csv(\"artifacts/data_ingestion/water_potability_dataset.csv\")"
   ]
  },
  {
   "cell_type": "raw",
   "id": "01ae1a4b-b62b-4997-aed8-9ba4a1517071",
   "metadata": {},
   "source": [
    "df.head()"
   ]
  },
  {
   "cell_type": "raw",
   "id": "f1b21f9e-75ea-47df-ade9-f12b065a79c2",
   "metadata": {},
   "source": [
    "df.info()"
   ]
  },
  {
   "cell_type": "raw",
   "id": "a1db8a51-202c-4281-bb91-bbbb22113514",
   "metadata": {},
   "source": [
    "df.isnull().sum()"
   ]
  },
  {
   "cell_type": "raw",
   "id": "d6641ae6-8841-4ae8-97fd-6f442411a2fa",
   "metadata": {},
   "source": [
    "df.shape"
   ]
  },
  {
   "cell_type": "markdown",
   "id": "58a8121e-6120-4a65-b4ce-a38ffa8b622d",
   "metadata": {},
   "source": [
    "#### Entity"
   ]
  },
  {
   "cell_type": "code",
   "execution_count": 6,
   "id": "d60790f8-e349-47ab-b3f8-0c2e7f20dfe1",
   "metadata": {},
   "outputs": [],
   "source": [
    "from dataclasses import dataclass\n",
    "from pathlib import Path\n",
    "\n",
    "@dataclass(frozen=True)\n",
    "class DataValidationConfig:\n",
    "    root_dir: Path\n",
    "    unzip_data_path: Path\n",
    "    status_file: str\n",
    "    data_schema: dict"
   ]
  },
  {
   "cell_type": "markdown",
   "id": "3f66ed26-e85c-4d77-ac60-84c3d5c89a66",
   "metadata": {},
   "source": [
    "#### Configuration"
   ]
  },
  {
   "cell_type": "code",
   "execution_count": 7,
   "id": "262385fb-81ef-4c6c-add9-8ab47b503c49",
   "metadata": {},
   "outputs": [],
   "source": [
    "from src.mlops_water_potability_prediction_project.constants import *\n",
    "from src.mlops_water_potability_prediction_project.utilities.helpers import read_yaml, create_directories\n",
    "\n",
    "class ConfigurationManager:\n",
    "    def __init__(self, config_filepath=CONFIG_FILE_PATH, params_filepath=PARAMS_FILE_PATH, schema_filepath=SCHEMA_FILE_PATH):\n",
    "        self.config = read_yaml(config_filepath)\n",
    "        self.params = read_yaml(params_filepath)\n",
    "        self.schema = read_yaml(schema_filepath)\n",
    "\n",
    "        create_directories(directories_path_list=[self.config.artifacts_root])\n",
    "\n",
    "    def get_data_validation_config(self) -> DataValidationConfig:\n",
    "        config = self.config.data_validation\n",
    "        schema = self.schema.COLUMNS\n",
    "\n",
    "        create_directories([config.root_dir])\n",
    "\n",
    "        data_validation_config = DataValidationConfig(\n",
    "            root_dir=config.root_dir,\n",
    "            unzip_data_path=config.unzip_data_path,\n",
    "            status_file=config.status_file,\n",
    "            data_schema=schema\n",
    "        )\n",
    "\n",
    "        return data_validation_config"
   ]
  },
  {
   "cell_type": "markdown",
   "id": "e4ab42f5-1e61-49ca-91bf-52cfe00d10bf",
   "metadata": {},
   "source": [
    "#### Component"
   ]
  },
  {
   "cell_type": "code",
   "execution_count": 8,
   "id": "08b149bf-c3d0-44a9-ac96-4e36067a5b5b",
   "metadata": {},
   "outputs": [],
   "source": [
    "import os\n",
    "import urllib.request as request\n",
    "import zipfile\n",
    "from src.mlops_water_potability_prediction_project import logger\n",
    "from src.mlops_water_potability_prediction_project.utilities.helpers import get_file_size\n",
    "\n",
    "class DataValidation:\n",
    "    def __init__(self, config: DataValidationConfig):\n",
    "        self.config = config\n",
    "\n",
    "    def validate_all_columns(self) -> bool:\n",
    "        try:\n",
    "            validation_status = None\n",
    "            dataframe = pd.read_csv(self.config.unzip_data_path)\n",
    "            all_columns = list(dataframe.columns)\n",
    "            data_schema_keys = self.config.data_schema.keys()\n",
    "\n",
    "            for col in all_columns:\n",
    "                if col not in data_schema_keys:\n",
    "                    validation_status = False\n",
    "                elif dataframe[col].dtype != self.config.data_schema[col]:\n",
    "                    validation_status = False\n",
    "                else:\n",
    "                    validation_status = True\n",
    "\n",
    "            with open(self.config.status_file, 'w') as f:\n",
    "                f.write(f\"Validation status: {str(validation_status).upper()}\")\n",
    "\n",
    "            return validation_status\n",
    "        except Exception as e:\n",
    "            raise e"
   ]
  },
  {
   "cell_type": "markdown",
   "id": "7836bbb3-df81-4c23-9348-53e3560cad86",
   "metadata": {},
   "source": [
    "#### Pipeline"
   ]
  },
  {
   "cell_type": "code",
   "execution_count": 9,
   "id": "2726d9a6-5afb-44a2-b34a-ee19f0029a46",
   "metadata": {},
   "outputs": [
    {
     "name": "stdout",
     "output_type": "stream",
     "text": [
      "[2024-01-28 20:17:24,228]: INFO: helpers: YAML file: config\\config.yaml loaded successfully]\n",
      "[2024-01-28 20:17:24,230]: INFO: helpers: YAML file: params.yaml loaded successfully]\n",
      "[2024-01-28 20:17:24,231]: INFO: helpers: YAML file: schema.yaml loaded successfully]\n",
      "[2024-01-28 20:17:24,232]: INFO: helpers: Created directory at: artifacts]\n",
      "[2024-01-28 20:17:24,233]: INFO: helpers: Created directory at: artifacts/data_validation]\n"
     ]
    }
   ],
   "source": [
    "try:\n",
    "    config = ConfigurationManager()\n",
    "    data_validation_config = config.get_data_validation_config()\n",
    "    data_validation = DataValidation(config=data_validation_config)\n",
    "    data_validation.validate_all_columns()\n",
    "except Exception as e:\n",
    "    raise e"
   ]
  },
  {
   "cell_type": "code",
   "execution_count": null,
   "id": "eddfb445-0153-4c34-b155-a72f6be5381e",
   "metadata": {},
   "outputs": [],
   "source": []
  }
 ],
 "metadata": {
  "kernelspec": {
   "display_name": "Python 3 (ipykernel)",
   "language": "python",
   "name": "python3"
  },
  "language_info": {
   "codemirror_mode": {
    "name": "ipython",
    "version": 3
   },
   "file_extension": ".py",
   "mimetype": "text/x-python",
   "name": "python",
   "nbconvert_exporter": "python",
   "pygments_lexer": "ipython3",
   "version": "3.10.11"
  }
 },
 "nbformat": 4,
 "nbformat_minor": 5
}
