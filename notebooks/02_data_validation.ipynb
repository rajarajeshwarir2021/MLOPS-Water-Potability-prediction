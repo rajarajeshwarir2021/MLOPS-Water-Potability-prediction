{
 "cells": [
  {
   "cell_type": "markdown",
   "id": "38b46dc2-b2c8-4256-acbd-a9c48fc673e9",
   "metadata": {},
   "source": [
    "#### Initial Setup"
   ]
  },
  {
   "cell_type": "code",
   "execution_count": null,
   "id": "9c8c41e9-5eed-4601-a314-96aba216501f",
   "metadata": {},
   "outputs": [],
   "source": [
    "import os"
   ]
  },
  {
   "cell_type": "code",
   "execution_count": null,
   "id": "934f9178-3682-4347-bc71-43efbd1a698a",
   "metadata": {},
   "outputs": [],
   "source": [
    "%pwd"
   ]
  },
  {
   "cell_type": "code",
   "execution_count": null,
   "id": "383fac29-fb9b-46a4-a267-4ae6c5a57073",
   "metadata": {},
   "outputs": [],
   "source": [
    "os.chdir(\"../\")"
   ]
  },
  {
   "cell_type": "code",
   "execution_count": null,
   "id": "52833dc7-d066-45dd-87e3-5a7649130031",
   "metadata": {},
   "outputs": [],
   "source": [
    "%pwd"
   ]
  },
  {
   "cell_type": "markdown",
   "id": "58a8121e-6120-4a65-b4ce-a38ffa8b622d",
   "metadata": {},
   "source": [
    "#### Entity"
   ]
  },
  {
   "cell_type": "code",
   "execution_count": null,
   "id": "d60790f8-e349-47ab-b3f8-0c2e7f20dfe1",
   "metadata": {},
   "outputs": [],
   "source": [
    "from dataclasses import dataclass\n",
    "from pathlib import Path\n",
    "\n",
    "@dataclass(frozen=True)\n",
    "class DataIngestionConfig:\n",
    "    source_url: str\n",
    "    root_dir: Path\n",
    "    unzip_dir: Path\n",
    "    zip_data_path: Path"
   ]
  },
  {
   "cell_type": "markdown",
   "id": "3f66ed26-e85c-4d77-ac60-84c3d5c89a66",
   "metadata": {},
   "source": [
    "#### Configuration"
   ]
  },
  {
   "cell_type": "code",
   "execution_count": null,
   "id": "262385fb-81ef-4c6c-add9-8ab47b503c49",
   "metadata": {},
   "outputs": [],
   "source": [
    "from src.mlops_water_potability_prediction_project.constants import *\n",
    "from src.mlops_water_potability_prediction_project.utilities.helpers import read_yaml, create_directories\n",
    "\n",
    "class ConfigurationManager:\n",
    "    def __init__(self, config_filepath=CONFIG_FILE_PATH, params_filepath=PARAMS_FILE_PATH, schema_filepath=SCHEMA_FILE_PATH):\n",
    "        self.config = read_yaml(config_filepath)\n",
    "        self.params = read_yaml(params_filepath)\n",
    "        self.schema = read_yaml(schema_filepath)\n",
    "\n",
    "        create_directories(directories_path_list=[self.config.artifacts_root])\n",
    "\n",
    "    def get_data_ingestion_config(self) -> DataIngestionConfig:\n",
    "        config = self.config.data_ingestion\n",
    "\n",
    "        create_directories([config.root_dir])\n",
    "\n",
    "        data_ingestion_config = DataIngestionConfig(\n",
    "            source_url=config.source_url,\n",
    "            root_dir=config.root_dir,\n",
    "            unzip_dir=config.unzip_dir,\n",
    "            zip_data_path=config.zip_data_path\n",
    "        )\n",
    "\n",
    "        return data_ingestion_config"
   ]
  },
  {
   "cell_type": "markdown",
   "id": "e4ab42f5-1e61-49ca-91bf-52cfe00d10bf",
   "metadata": {},
   "source": [
    "#### Component"
   ]
  },
  {
   "cell_type": "code",
   "execution_count": null,
   "id": "08b149bf-c3d0-44a9-ac96-4e36067a5b5b",
   "metadata": {},
   "outputs": [],
   "source": [
    "import os\n",
    "import urllib.request as request\n",
    "import zipfile\n",
    "from src.mlops_water_potability_prediction_project import logger\n",
    "from src.mlops_water_potability_prediction_project.utilities.helpers import get_file_size\n",
    "\n",
    "class DataIngestion:\n",
    "    def __init__(self, config: DataIngestionConfig):\n",
    "        self.config = config\n",
    "\n",
    "    def download_file(self):\n",
    "        if not os.path.exists(self.config.zip_data_path):\n",
    "            filename, headers = request.urlretrieve(\n",
    "                url = self.config.source_url,\n",
    "                filename=self.config.zip_data_path\n",
    "            )\n",
    "            logger.info(f\"{filename} download! \\nWith the following info: \\n{headers}\")\n",
    "        else:\n",
    "            logger.info(f\"File already exists. Size : {get_file_size(Path(self.config.zip_data_path))}\")\n",
    "\n",
    "    def extract_zip_file(self):\n",
    "        unzip_path = self.config.unzip_dir\n",
    "        os.makedirs(unzip_path, exist_ok=True)\n",
    "        with zipfile.ZipFile(self.config.zip_data_path, 'r') as zip_ref:\n",
    "            zip_ref.extractall(unzip_path)"
   ]
  },
  {
   "cell_type": "markdown",
   "id": "7836bbb3-df81-4c23-9348-53e3560cad86",
   "metadata": {},
   "source": [
    "#### Pipeline"
   ]
  },
  {
   "cell_type": "code",
   "execution_count": null,
   "id": "2726d9a6-5afb-44a2-b34a-ee19f0029a46",
   "metadata": {},
   "outputs": [],
   "source": [
    "try:\n",
    "    config = ConfigurationManager()\n",
    "    data_ingestion_config = config.get_data_ingestion_config()\n",
    "    data_ingestion = DataIngestion(config=data_ingestion_config)\n",
    "    data_ingestion.download_file()\n",
    "    data_ingestion.extract_zip_file()\n",
    "except Exception as e:\n",
    "    raise e"
   ]
  },
  {
   "cell_type": "code",
   "execution_count": null,
   "id": "eddfb445-0153-4c34-b155-a72f6be5381e",
   "metadata": {},
   "outputs": [],
   "source": []
  }
 ],
 "metadata": {
  "kernelspec": {
   "display_name": "Python 3 (ipykernel)",
   "language": "python",
   "name": "python3"
  },
  "language_info": {
   "codemirror_mode": {
    "name": "ipython",
    "version": 3
   },
   "file_extension": ".py",
   "mimetype": "text/x-python",
   "name": "python",
   "nbconvert_exporter": "python",
   "pygments_lexer": "ipython3",
   "version": "3.10.11"
  }
 },
 "nbformat": 4,
 "nbformat_minor": 5
}
