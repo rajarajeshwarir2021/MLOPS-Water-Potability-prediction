{
 "cells": [
  {
   "cell_type": "markdown",
   "id": "c091403d-7194-43ac-8681-a4287a6b1abb",
   "metadata": {},
   "source": [
    "#### Initial Setup"
   ]
  },
  {
   "cell_type": "code",
   "execution_count": 1,
   "id": "d8176083-6230-4cec-b743-290a074fed3d",
   "metadata": {},
   "outputs": [],
   "source": [
    "import os"
   ]
  },
  {
   "cell_type": "code",
   "execution_count": 2,
   "id": "c65138e7-5b00-4a2d-986b-47751796817e",
   "metadata": {},
   "outputs": [
    {
     "data": {
      "text/plain": [
       "'E:\\\\RajaRajeshwari\\\\MyFolders\\\\Projects\\\\mlops_water_potability_prediction\\\\notebooks'"
      ]
     },
     "execution_count": 2,
     "metadata": {},
     "output_type": "execute_result"
    }
   ],
   "source": [
    "%pwd"
   ]
  },
  {
   "cell_type": "code",
   "execution_count": 3,
   "id": "b583fd2c-3028-4ec9-9794-c15808a6782d",
   "metadata": {},
   "outputs": [],
   "source": [
    "os.chdir(\"../\")"
   ]
  },
  {
   "cell_type": "code",
   "execution_count": 4,
   "id": "14102d35-7e13-49a8-b209-42b86daa415b",
   "metadata": {},
   "outputs": [
    {
     "data": {
      "text/plain": [
       "'E:\\\\RajaRajeshwari\\\\MyFolders\\\\Projects\\\\mlops_water_potability_prediction'"
      ]
     },
     "execution_count": 4,
     "metadata": {},
     "output_type": "execute_result"
    }
   ],
   "source": [
    "%pwd"
   ]
  },
  {
   "cell_type": "code",
   "execution_count": 5,
   "id": "2f65e427-d6e1-4b2e-b0ca-30cc22d0717e",
   "metadata": {},
   "outputs": [],
   "source": [
    "os.environ[\"MLFLOW_TRACKING_URI\"]=\"https://dagshub.com/rajarajeshwarir2021/MLOPS-Water-Potability-prediction.mlflow\"\n",
    "os.environ[\"MLFLOW_TRACKING_USERNAME\"]=\"rajarajeshwarir2021\"\n",
    "os.environ[\"MLFLOW_TRACKING_PASSWORD\"]=\"9bcd728f7628e9db2e294588d97d9589df5ea9b1\""
   ]
  },
  {
   "cell_type": "markdown",
   "id": "e1c1e7d0-01c1-4ffa-b0a1-b9927d058088",
   "metadata": {},
   "source": [
    "#### Entity"
   ]
  },
  {
   "cell_type": "code",
   "execution_count": 6,
   "id": "6f88a5c9-7593-43ab-8c9b-ddcae826c8e2",
   "metadata": {},
   "outputs": [],
   "source": [
    "from dataclasses import dataclass\n",
    "from pathlib import Path\n",
    "\n",
    "@dataclass(frozen=True)\n",
    "class ModelEvaluationConfig:\n",
    "    root_dir: Path\n",
    "    test_data_path: Path\n",
    "    model_path: Path\n",
    "    metric_file_name: str\n",
    "    parameters: dict\n",
    "    target_column: str\n",
    "    mlflow_uri: str    "
   ]
  },
  {
   "cell_type": "markdown",
   "id": "0a8ee372-fc45-47ec-84bb-54984ccc1313",
   "metadata": {},
   "source": [
    "#### Configuration"
   ]
  },
  {
   "cell_type": "code",
   "execution_count": 7,
   "id": "4b0b491b-ecce-44e5-83d3-1e144e3e4d31",
   "metadata": {},
   "outputs": [],
   "source": [
    "from src.mlops_water_potability_prediction_project.constants import *\n",
    "from src.mlops_water_potability_prediction_project.utilities.helpers import read_yaml, create_directories, save_json\n",
    "\n",
    "class ConfigurationManager:\n",
    "    def __init__(self, config_filepath=CONFIG_FILE_PATH, params_filepath=PARAMS_FILE_PATH, schema_filepath=SCHEMA_FILE_PATH):\n",
    "        self.config = read_yaml(config_filepath)\n",
    "        self.params = read_yaml(params_filepath)\n",
    "        self.schema = read_yaml(schema_filepath)\n",
    "\n",
    "        create_directories(directories_path_list=[self.config.artifacts_root])\n",
    "\n",
    "    def get_model_evaluation_config(self) -> ModelEvaluationConfig:\n",
    "        config = self.config.model_evaluation\n",
    "        params = self.params.CatBoost\n",
    "        schema = self.schema.TARGET_COLUMN\n",
    "\n",
    "        create_directories([config.root_dir])\n",
    "\n",
    "        model_evaluation_config = ModelEvaluationConfig(\n",
    "            root_dir=config.root_dir,\n",
    "            test_data_path=config.test_data_path,\n",
    "            model_path=config.model_path,\n",
    "            metric_file_name=config.metric_file_name,\n",
    "            parameters=params,\n",
    "            target_column=schema.name,\n",
    "            mlflow_uri=\"https://dagshub.com/rajarajeshwarir2021/MLOPS-Water-Potability-prediction.mlflow\"\n",
    "        )\n",
    "\n",
    "        return model_evaluation_config"
   ]
  },
  {
   "cell_type": "markdown",
   "id": "c9745c14-385b-4a38-9ab2-e7baf4ddb6fc",
   "metadata": {},
   "source": [
    "#### Component"
   ]
  },
  {
   "cell_type": "code",
   "execution_count": 10,
   "id": "22e1b7ac-1269-4409-9186-c6c3fbd6cff3",
   "metadata": {},
   "outputs": [],
   "source": [
    "import joblib\n",
    "import mlflow\n",
    "import mlflow.sklearn\n",
    "import numpy as np\n",
    "import os\n",
    "import pandas as pd\n",
    "from sklearn.metrics import accuracy_score, confusion_matrix\n",
    "from urllib.parse import urlparse\n",
    "\n",
    "from src.mlops_water_potability_prediction_project import logger\n",
    "\n",
    "\n",
    "class ModelEvaluation:\n",
    "    def __init__(self, config: ModelEvaluationConfig):\n",
    "        self.config = config\n",
    "\n",
    "    def evaluate(self):\n",
    "        try:\n",
    "            test_df = pd.read_csv(self.config.test_data_path)\n",
    "            model = joblib.load(self.config.model_path)\n",
    "\n",
    "            X_test = test_df.drop([self.config.target_column], axis=1)\n",
    "            y_test = test_df[[self.config.target_column]]\n",
    "\n",
    "            mlflow.set_registry_uri(self.config.mlflow_uri)\n",
    "            tracking_url_type_store = urlparse(mlflow.get_tracking_uri()).scheme\n",
    "\n",
    "            with mlflow.start_run():\n",
    "                y_pred = model.predict(test_df)\n",
    "\n",
    "                accuracy, conf_matrix = ModelEvaluation.evaluate_metrics(y_test, y_pred)\n",
    "\n",
    "                # Save metrics locally\n",
    "                score = { \"Accuracy\": accuracy,\n",
    "                         \"True_Positive\": int(conf_matrix[0][0]),\n",
    "                         \"True_Negative\": int(conf_matrix[1][1]),\n",
    "                         \"False_Positive\": int(conf_matrix[0][1]),\n",
    "                         \"False_Negative\": int(conf_matrix[1][0])\n",
    "                        }\n",
    "                metric_file_path = Path(os.path.join(self.config.root_dir, self.config.metric_file_name))\n",
    "                save_json(metric_file_path, score)\n",
    "\n",
    "                # Log parameters and metrics\n",
    "                mlflow.log_params(self.config.parameters)\n",
    "                mlflow.log_metrics(score)\n",
    "\n",
    "            if tracking_url_type_store != \"file\":\n",
    "                mlflow.sklearn.log_model(model, \"model\", registered_model_name=\"CatBoostModel\")\n",
    "            else:\n",
    "                mlflow.sklearn.log_model(model, \"model\")\n",
    "\n",
    "            logger.info(\"Evaluate the model\")\n",
    "        except Exception as e:\n",
    "            raise e\n",
    "\n",
    "    @staticmethod\n",
    "    def evaluate_metrics(actual, predict):\n",
    "        accuracy = round(accuracy_score(actual, predict), 2)\n",
    "        conf_matrix = confusion_matrix(actual, predict)\n",
    "        return accuracy, conf_matrix        "
   ]
  },
  {
   "cell_type": "markdown",
   "id": "08b1f8ed-8034-4fb4-8751-d398c1dc22b6",
   "metadata": {},
   "source": [
    "#### Pipeline"
   ]
  },
  {
   "cell_type": "code",
   "execution_count": 11,
   "id": "4a37598a-b534-4765-a79d-dff55e8056a3",
   "metadata": {},
   "outputs": [
    {
     "name": "stdout",
     "output_type": "stream",
     "text": [
      "[2024-01-29 14:55:36,997]: INFO: helpers: YAML file: config\\config.yaml loaded successfully]\n",
      "[2024-01-29 14:55:36,999]: INFO: helpers: YAML file: params.yaml loaded successfully]\n",
      "[2024-01-29 14:55:37,000]: INFO: helpers: YAML file: schema.yaml loaded successfully]\n",
      "[2024-01-29 14:55:37,001]: INFO: helpers: Created directory at: artifacts]\n",
      "[2024-01-29 14:55:37,002]: INFO: helpers: Created directory at: artifacts/model_evaluation]\n",
      "[2024-01-29 14:55:37,453]: INFO: helpers: JSON file saved at: artifacts\\model_evaluation\\metrics.json]\n"
     ]
    },
    {
     "name": "stderr",
     "output_type": "stream",
     "text": [
      "Registered model 'CatBoostModel' already exists. Creating a new version of this model...\n",
      "2024/01/29 14:55:44 INFO mlflow.tracking._model_registry.client: Waiting up to 300 seconds for model version to finish creation. Model name: CatBoostModel, version 6\n"
     ]
    },
    {
     "name": "stdout",
     "output_type": "stream",
     "text": [
      "[2024-01-29 14:55:44,333]: INFO: 2019962352: Evaluate the model]\n"
     ]
    },
    {
     "name": "stderr",
     "output_type": "stream",
     "text": [
      "Created version '6' of model 'CatBoostModel'.\n"
     ]
    }
   ],
   "source": [
    "try:\n",
    "    config = ConfigurationManager()\n",
    "    model_evaluation_config = config.get_model_evaluation_config()\n",
    "    model_evaluation_config = ModelEvaluation(config=model_evaluation_config)\n",
    "    model_evaluation_config.evaluate()\n",
    "except Exception as e:\n",
    "    raise e"
   ]
  },
  {
   "cell_type": "code",
   "execution_count": null,
   "id": "e5956688-94be-4066-85ec-4724557fb2f4",
   "metadata": {},
   "outputs": [],
   "source": []
  }
 ],
 "metadata": {
  "kernelspec": {
   "display_name": "Python 3 (ipykernel)",
   "language": "python",
   "name": "python3"
  },
  "language_info": {
   "codemirror_mode": {
    "name": "ipython",
    "version": 3
   },
   "file_extension": ".py",
   "mimetype": "text/x-python",
   "name": "python",
   "nbconvert_exporter": "python",
   "pygments_lexer": "ipython3",
   "version": "3.10.11"
  }
 },
 "nbformat": 4,
 "nbformat_minor": 5
}
