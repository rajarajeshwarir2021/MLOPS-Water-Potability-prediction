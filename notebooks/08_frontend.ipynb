{
 "cells": [
  {
   "cell_type": "markdown",
   "id": "53fa4c78-b13b-4699-9952-09371eaa81f2",
   "metadata": {},
   "source": [
    "#### Initial Setup"
   ]
  },
  {
   "cell_type": "code",
   "execution_count": 1,
   "id": "b53ea7af-0b62-4fce-8cdd-f91022343f26",
   "metadata": {},
   "outputs": [],
   "source": [
    "import os"
   ]
  },
  {
   "cell_type": "code",
   "execution_count": 2,
   "id": "99278ef0-e4b9-4dba-bbfe-0c41c5ee05a5",
   "metadata": {},
   "outputs": [
    {
     "data": {
      "text/plain": [
       "'E:\\\\RajaRajeshwari\\\\MyFolders\\\\Projects\\\\mlops_water_potability_prediction\\\\notebooks'"
      ]
     },
     "execution_count": 2,
     "metadata": {},
     "output_type": "execute_result"
    }
   ],
   "source": [
    "%pwd"
   ]
  },
  {
   "cell_type": "code",
   "execution_count": 3,
   "id": "e2885de4-5785-4199-9cdf-9f6c2e0267da",
   "metadata": {},
   "outputs": [],
   "source": [
    "os.chdir(\"../\")"
   ]
  },
  {
   "cell_type": "code",
   "execution_count": 4,
   "id": "9895dc83-ad63-4c8a-b567-59e0e22042c0",
   "metadata": {},
   "outputs": [
    {
     "data": {
      "text/plain": [
       "'E:\\\\RajaRajeshwari\\\\MyFolders\\\\Projects\\\\mlops_water_potability_prediction'"
      ]
     },
     "execution_count": 4,
     "metadata": {},
     "output_type": "execute_result"
    }
   ],
   "source": [
    "%pwd"
   ]
  },
  {
   "cell_type": "markdown",
   "id": "b5d46ec1-cfbe-488b-b65d-f80cc5d23ff0",
   "metadata": {},
   "source": [
    "#### Entity"
   ]
  },
  {
   "cell_type": "code",
   "execution_count": 5,
   "id": "4abd2d3e-577f-4c91-8853-6c882a23738d",
   "metadata": {},
   "outputs": [],
   "source": [
    "from dataclasses import dataclass\n",
    "from pathlib import Path\n",
    "\n",
    "@dataclass(frozen=True)\n",
    "class ModelFrontendConfig:\n",
    "    static_dir: Path\n",
    "    template_dir: Path\n",
    "    dataset_schema : Path\n",
    "    feature_scaler: Path\n",
    "    model_path: Path"
   ]
  },
  {
   "cell_type": "markdown",
   "id": "31b52dbc-935f-4f98-9f6c-83e9ffb40e5c",
   "metadata": {},
   "source": [
    "#### Configuration"
   ]
  },
  {
   "cell_type": "code",
   "execution_count": 6,
   "id": "f23cb5a3-304e-42bd-af74-41fe217bbd55",
   "metadata": {},
   "outputs": [],
   "source": [
    "from src.mlops_water_potability_prediction_project.constants import *\n",
    "from src.mlops_water_potability_prediction_project.utilities.helpers import read_yaml\n",
    "\n",
    "class ConfigurationManager:\n",
    "    def __init__(self, config_filepath=CONFIG_FILE_PATH, params_filepath=PARAMS_FILE_PATH, schema_filepath=SCHEMA_FILE_PATH):\n",
    "        self.config = read_yaml(config_filepath)\n",
    "        self.params = read_yaml(params_filepath)\n",
    "        self.schema = read_yaml(schema_filepath)\n",
    "\n",
    "    def get_frontend_config(self) -> ModelFrontendConfig:\n",
    "        config = self.config.web_app\n",
    "\n",
    "        model_frontend_config = ModelFrontendConfig(\n",
    "            static_dir=config.static_dir,\n",
    "            template_dir=config.template_dir,\n",
    "            dataset_schema=config.dataset_schema,\n",
    "            feature_scaler=config.feature_scaler,\n",
    "            model_path=config.model_path\n",
    "        )\n",
    "\n",
    "        return model_frontend_config"
   ]
  },
  {
   "cell_type": "markdown",
   "id": "74a57b51-a441-4cdf-9c91-05de7a8e3a5f",
   "metadata": {},
   "source": [
    "#### Component"
   ]
  },
  {
   "cell_type": "code",
   "execution_count": 7,
   "id": "c184ef53-760f-46e0-8196-65a893cf11c6",
   "metadata": {},
   "outputs": [],
   "source": [
    "import joblib\n",
    "import json\n",
    "import numpy as np\n",
    "import pandas as pd\n",
    "from src.mlops_water_potability_prediction_project import logger\n",
    "\n",
    "\n",
    "class NotInRange(Exception):\n",
    "    def __init__(self, message=\"Values entered are not in range\"):\n",
    "        self.message = message\n",
    "        super().__init__(self.message)\n",
    "\n",
    "\n",
    "class NotInFeatureColumn(Exception):\n",
    "    def __init__(self, message=\"Values entered are not in feature columns\"):\n",
    "        self.message = message\n",
    "        super().__init__(self.message)\n",
    "        \n",
    "\n",
    "class FrontendPrediction:\n",
    "    def __init__(self, config: ModelFrontendConfig):\n",
    "        self.config = config\n",
    "\n",
    "    def form_response(self, dict_request):\n",
    "        if self.validate_input(dict_request):\n",
    "            scaled_data = self.feature_scale(dict_request)\n",
    "            print(scaled_data)\n",
    "            prediction_result = self.model_predict(scaled_data)\n",
    "            if prediction_result == 1:\n",
    "                response = \"Potable\"\n",
    "            else:\n",
    "                response = \"Not Potable\"\n",
    "            return response\n",
    "\n",
    "    def model_predict(self, data):\n",
    "        try:\n",
    "            model = joblib.load(self.config.model_path)\n",
    "            prediction = [model.predict(data)][0]\n",
    "            if 0 <= prediction <= 1:\n",
    "                return prediction\n",
    "            else:\n",
    "                raise NotInRange\n",
    "            logger.info(\"Predict data using model\")\n",
    "            return prediction\n",
    "        except Exception as e:\n",
    "            raise e\n",
    "        \n",
    "    def validate_input(self, data):\n",
    "        def _validate_cols(col):\n",
    "            schema = FrontendPrediction.get_schema(self.config.dataset_schema)\n",
    "            actual_cols = schema.keys()\n",
    "            if col not in actual_cols:\n",
    "                raise NotInFeatureColumn\n",
    "    \n",
    "        def _validate_values(col, val):\n",
    "            schema = FrontendPrediction.get_schema(self.config.dataset_schema)\n",
    "            if not (schema[col][\"min\"] <= float(val) <= schema[col][\"max\"]):\n",
    "                raise NotInRange\n",
    "    \n",
    "        for col, val in data.items():\n",
    "            _validate_cols(col)\n",
    "            _validate_values(col, val)\n",
    "    \n",
    "        return True\n",
    "\n",
    "    def feature_scale(self, data):\n",
    "        df = FrontendPrediction.create_dataframe(data)\n",
    "        sc = joblib.load(self.config.feature_scaler)\n",
    "        data = sc.transform(df) \n",
    "        return data\n",
    "\n",
    "    @staticmethod\n",
    "    def get_schema(schema_path):\n",
    "        with open(schema_path, 'r') as f:\n",
    "            schema = json.load(f)\n",
    "        return schema\n",
    "\n",
    "    @staticmethod\n",
    "    def create_dataframe(dict):\n",
    "        data = np.array([list(dict.values())])\n",
    "        headers = list(dict.keys())\n",
    "        df = pd.DataFrame(data, columns=headers)\n",
    "        return df"
   ]
  },
  {
   "cell_type": "markdown",
   "id": "21273b5b-cf49-4744-868c-1bd02d65d91a",
   "metadata": {},
   "source": [
    "#### Pipeline"
   ]
  },
  {
   "cell_type": "code",
   "execution_count": 9,
   "id": "732e8f65-52da-4b3f-ade3-1e143a7cd11e",
   "metadata": {},
   "outputs": [
    {
     "name": "stdout",
     "output_type": "stream",
     "text": [
      "[2024-01-30 15:18:56,101]: INFO: helpers: YAML file: config\\config.yaml loaded successfully]\n",
      "[2024-01-30 15:18:56,103]: INFO: helpers: YAML file: params.yaml loaded successfully]\n",
      "[2024-01-30 15:18:56,105]: INFO: helpers: YAML file: schema.yaml loaded successfully]\n",
      "[[-3.21080684 -3.70909722 -2.50893968 -3.20331316 -4.41686841 -2.1911292\n",
      "  -1.28323262 -3.49186624  1.31169752]]\n",
      "Not Potable\n"
     ]
    },
    {
     "name": "stderr",
     "output_type": "stream",
     "text": [
      "C:\\Users\\rajar\\AppData\\Local\\pypoetry\\Cache\\virtualenvs\\mlops-water-potability-prediction-BSk4LJ4h-py3.10\\lib\\site-packages\\sklearn\\base.py:486: UserWarning: X has feature names, but StandardScaler was fitted without feature names\n",
      "  warnings.warn(\n"
     ]
    }
   ],
   "source": [
    "data = {\n",
    "    'ph': '2',\n",
    "    'Hardness': '75',\n",
    "    'Solids': '350',\n",
    "    'Chloramines': '2',\n",
    "    'Sulfate': '150',\n",
    "    'Conductivity': '250',\n",
    "    'Organic_carbon': '10',\n",
    "    'Trihalomethanes': '10',\n",
    "    'Turbidity': '5'\n",
    "}\n",
    "try:\n",
    "    config = ConfigurationManager()\n",
    "    frontend_config = config.get_frontend_config()\n",
    "    frontend_config = FrontendPrediction(config=frontend_config)\n",
    "    prediction = frontend_config.form_response(data)\n",
    "    print(prediction)\n",
    "except Exception as e:\n",
    "    raise e"
   ]
  },
  {
   "cell_type": "code",
   "execution_count": null,
   "id": "d2ebbea0-14d3-42bf-a376-33b8bffeb614",
   "metadata": {},
   "outputs": [],
   "source": []
  }
 ],
 "metadata": {
  "kernelspec": {
   "display_name": "Python 3 (ipykernel)",
   "language": "python",
   "name": "python3"
  },
  "language_info": {
   "codemirror_mode": {
    "name": "ipython",
    "version": 3
   },
   "file_extension": ".py",
   "mimetype": "text/x-python",
   "name": "python",
   "nbconvert_exporter": "python",
   "pygments_lexer": "ipython3",
   "version": "3.10.11"
  }
 },
 "nbformat": 4,
 "nbformat_minor": 5
}
